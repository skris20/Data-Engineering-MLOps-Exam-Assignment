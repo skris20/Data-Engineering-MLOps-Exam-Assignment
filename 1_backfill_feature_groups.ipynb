{
 "cells": [
  {
   "cell_type": "markdown",
   "metadata": {},
   "source": [
    "# Loading the data "
   ]
  },
  {
   "cell_type": "code",
   "execution_count": 1,
   "metadata": {},
   "outputs": [],
   "source": [
    "!pip install -U hopsworks --quiet"
   ]
  },
  {
   "cell_type": "code",
   "execution_count": 2,
   "metadata": {},
   "outputs": [],
   "source": [
    "!pip install kaggle --quiet"
   ]
  },
  {
   "cell_type": "code",
   "execution_count": 3,
   "metadata": {},
   "outputs": [],
   "source": [
    "import numpy as np\n",
    "import pandas as pd"
   ]
  },
  {
   "cell_type": "code",
   "execution_count": 7,
   "metadata": {},
   "outputs": [],
   "source": [
    "# Path to the TXT file\n",
    "file_path = \"/Users/lassehylleberg/Desktop/Exam/ratebeer/ratebeer.txt\"\n",
    "\n",
    "# Define dictionary to store data, initializing all lists\n",
    "columns = ['beer/name', 'beer/beerId', 'beer/brewerId', 'beer/ABV', 'beer/style',\n",
    "           'review/appearance', 'review/aroma', 'review/palate', 'review/taste',\n",
    "           'review/overall', 'review/time', 'review/profileName', 'review/text']\n",
    "data = {col: [] for col in columns}\n",
    "\n",
    "# Read the file line by line and extract data\n",
    "with open(file_path, \"r\", encoding=\"ISO-8859-1\") as file:\n",
    "    current_review = {}\n",
    "    for line in file:\n",
    "        line = line.strip()\n",
    "        if line:\n",
    "            try:\n",
    "                key, value = line.split(\": \", 1)\n",
    "                current_review[key] = value\n",
    "            except ValueError:\n",
    "                # Skip lines that don't contain the separator\n",
    "                continue\n",
    "        else:\n",
    "            if current_review:\n",
    "                # Append the data for each key or NaN if the key wasn't found\n",
    "                for col in columns:\n",
    "                    data[col].append(current_review.get(col, np.nan))\n",
    "                current_review = {}\n",
    "\n",
    "# After the loop, check if there's an incomplete entry remaining to be added\n",
    "if current_review:\n",
    "    for col in columns:\n",
    "        data[col].append(current_review.get(col, np.nan))\n",
    "\n",
    "# Create DataFrame from the data\n",
    "df = pd.DataFrame(data)"
   ]
  },
  {
   "cell_type": "code",
   "execution_count": 10,
   "metadata": {},
   "outputs": [
    {
     "name": "stdout",
     "output_type": "stream",
     "text": [
      "<class 'pandas.core.frame.DataFrame'>\n",
      "RangeIndex: 2924163 entries, 0 to 2924162\n",
      "Data columns (total 13 columns):\n",
      " #   Column              Dtype \n",
      "---  ------              ----- \n",
      " 0   beer/name           object\n",
      " 1   beer/beerId         object\n",
      " 2   beer/brewerId       object\n",
      " 3   beer/ABV            object\n",
      " 4   beer/style          object\n",
      " 5   review/appearance   object\n",
      " 6   review/aroma        object\n",
      " 7   review/palate       object\n",
      " 8   review/taste        object\n",
      " 9   review/overall      object\n",
      " 10  review/time         object\n",
      " 11  review/profileName  object\n",
      " 12  review/text         object\n",
      "dtypes: object(13)\n",
      "memory usage: 290.0+ MB\n"
     ]
    }
   ],
   "source": [
    "df.info()"
   ]
  },
  {
   "cell_type": "code",
   "execution_count": 11,
   "metadata": {},
   "outputs": [
    {
     "name": "stdout",
     "output_type": "stream",
     "text": [
      "<class 'pandas.core.frame.DataFrame'>\n",
      "RangeIndex: 2924163 entries, 0 to 2924162\n",
      "Data columns (total 13 columns):\n",
      " #   Column              Dtype         \n",
      "---  ------              -----         \n",
      " 0   beer/name           object        \n",
      " 1   beer/beerId         float64       \n",
      " 2   beer/brewerId       int16         \n",
      " 3   beer/ABV            float64       \n",
      " 4   beer/style          object        \n",
      " 5   review/appearance   float64       \n",
      " 6   review/aroma        float64       \n",
      " 7   review/palate       float64       \n",
      " 8   review/taste        float64       \n",
      " 9   review/overall      float64       \n",
      " 10  review/time         datetime64[ns]\n",
      " 11  review/profileName  object        \n",
      " 12  review/text         object        \n",
      "dtypes: datetime64[ns](1), float64(7), int16(1), object(4)\n",
      "memory usage: 273.3+ MB\n"
     ]
    }
   ],
   "source": [
    "# Convert numeric columns to float\n",
    "numeric_cols = ['beer/ABV', 'review/appearance', 'review/aroma', 'review/palate', 'review/taste', 'review/overall']\n",
    "df[numeric_cols] = df[numeric_cols].apply(pd.to_numeric, errors='coerce')\n",
    "\n",
    "# Convert ID columns to integers, coerce errors which will convert non-convertible values to NaN\n",
    "id_cols = ['beer/beerId', 'beer/brewerId']\n",
    "df[id_cols] = df[id_cols].apply(pd.to_numeric, errors='coerce', downcast='integer')\n",
    "\n",
    "# Convert review time to datetime\n",
    "df['review/time'] = pd.to_datetime(df['review/time'], errors='coerce')\n",
    "\n",
    "# Check the changes\n",
    "df.info()\n"
   ]
  }
 ],
 "metadata": {
  "kernelspec": {
   "display_name": "MLOPS",
   "language": "python",
   "name": "python3"
  },
  "language_info": {
   "codemirror_mode": {
    "name": "ipython",
    "version": 3
   },
   "file_extension": ".py",
   "mimetype": "text/x-python",
   "name": "python",
   "nbconvert_exporter": "python",
   "pygments_lexer": "ipython3",
   "version": "3.12.2"
  }
 },
 "nbformat": 4,
 "nbformat_minor": 2
}
