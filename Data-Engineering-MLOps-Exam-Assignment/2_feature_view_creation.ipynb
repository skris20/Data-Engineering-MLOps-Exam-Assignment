{
 "cells": [
  {
   "cell_type": "markdown",
   "metadata": {},
   "source": [
    "# Training Data & Feature views"
   ]
  },
  {
   "cell_type": "code",
   "execution_count": 1,
   "metadata": {},
   "outputs": [
    {
     "name": "stderr",
     "output_type": "stream",
     "text": [
      "/Users/lassehylleberg/anaconda3/envs/MLOPS/lib/python3.12/site-packages/tqdm/auto.py:21: TqdmWarning: IProgress not found. Please update jupyter and ipywidgets. See https://ipywidgets.readthedocs.io/en/stable/user_install.html\n",
      "  from .autonotebook import tqdm as notebook_tqdm\n"
     ]
    }
   ],
   "source": [
    "import pandas as pd\n",
    "import numpy as np\n",
    "import datetime\n",
    "import hopsworks\n",
    "import random\n",
    "import gdown\n",
    "import pickle"
   ]
  },
  {
   "cell_type": "markdown",
   "metadata": {},
   "source": [
    "### Load the data using pickle "
   ]
  },
  {
   "cell_type": "code",
   "execution_count": 2,
   "metadata": {},
   "outputs": [],
   "source": [
    "# Load the DataFrame\n",
    "with open('ratebeer.pkl', 'rb') as file:\n",
    "    df = pickle.load(file)"
   ]
  },
  {
   "cell_type": "markdown",
   "metadata": {},
   "source": [
    "### Connecting to Hopsworks"
   ]
  },
  {
   "cell_type": "code",
   "execution_count": 3,
   "metadata": {},
   "outputs": [
    {
     "name": "stdout",
     "output_type": "stream",
     "text": [
      "Connected. Call `.close()` to terminate connection gracefully.\n",
      "\n",
      "Logged in to project, explore it here https://c.app.hopsworks.ai:443/p/550037\n",
      "2024-05-06 20:04:57,595 WARNING: using legacy validation callback\n"
     ]
    },
    {
     "name": "stderr",
     "output_type": "stream",
     "text": [
      "DeprecationWarning: The 'warn' method is deprecated, use 'warning' instead\n"
     ]
    },
    {
     "name": "stdout",
     "output_type": "stream",
     "text": [
      "Connected. Call `.close()` to terminate connection gracefully.\n"
     ]
    }
   ],
   "source": [
    "project = hopsworks.login()\n",
    "fs = project.get_feature_store()"
   ]
  },
  {
   "cell_type": "markdown",
   "metadata": {},
   "source": [
    "## <span style=\"color:#ff5f27;\"> ⚙️ Feature View Creation </span>"
   ]
  },
  {
   "cell_type": "code",
   "execution_count": 30,
   "metadata": {},
   "outputs": [
    {
     "name": "stdout",
     "output_type": "stream",
     "text": [
      "[<hsfs.feature_group.FeatureGroup object at 0x16a8157f0>]\n",
      "[<hsfs.feature_group.FeatureGroup object at 0x16a9d7410>]\n",
      "[<hsfs.feature_group.FeatureGroup object at 0x16a9d4dd0>]\n",
      "[<hsfs.feature_group.FeatureGroup object at 0x16a9d76b0>]\n",
      "Feature view created successfully, explore it at \n",
      "https://c.app.hopsworks.ai:443/p/550037/fs/545860/fv/user_beer_feature_view/version/1\n",
      "User and beer feature view created successfully.\n"
     ]
    }
   ],
   "source": [
    "def create_user_beer_feature_view(fs, version=1):\n",
    "    # Load feature groups\n",
    "    beer_fg = fs.get_feature_group('beer_features', version=version)\n",
    "    review_fg = fs.get_feature_group('review_features', version=version)\n",
    "    agg_reviews_fg = fs.get_feature_group('agg_reviews', version=version)\n",
    "    reviewer_metrics_fg = fs.get_feature_group('reviewer_metrics', version=version)\n",
    "    \n",
    "    # Define the join queries properly, excluding review_time and review_count from trans_fg\n",
    "    ds_query = beer_fg.select_all()\\\n",
    "        .join(review_fg.select_except([\"review_time\"]), on=['beer_beerid', 'review_profilename'])\\\n",
    "        .join(agg_reviews_fg.select_except([\"review_count\"]), on='beer_beerid')\\\n",
    "        .join(reviewer_metrics_fg.select_all(), on='review_profilename')\n",
    "    \n",
    "    # Define transformation functions for relevant features\n",
    "    transformation_functions = {\n",
    "        'review_aroma': fs.get_transformation_function(name='min_max_scaler'),\n",
    "        'review_taste': fs.get_transformation_function(name='min_max_scaler'),\n",
    "        'review_appearance': fs.get_transformation_function(name='min_max_scaler'),\n",
    "        'review_palate': fs.get_transformation_function(name='min_max_scaler'),  \n",
    "    }\n",
    "    \n",
    "    # Create and return the feature view\n",
    "    return fs.create_feature_view(\n",
    "        name='user_beer_feature_view',\n",
    "        version=version,\n",
    "        query=ds_query,\n",
    "        labels=['review_overall'],  # Assuming 'review_overall' is the target variable\n",
    "        transformation_functions=transformation_functions,\n",
    "        description=\"Feature view aggregating user and beer features with review metrics\"\n",
    "    )\n",
    "\n",
    "# Create the feature view\n",
    "try:\n",
    "    user_beer_feature_view = create_user_beer_feature_view(fs)\n",
    "    print(\"User and beer feature view created successfully.\")\n",
    "except Exception as e:\n",
    "    print(\"Failed to create user and beer feature view:\", e)"
   ]
  },
  {
   "cell_type": "code",
   "execution_count": 31,
   "metadata": {},
   "outputs": [],
   "source": [
    "import datetime\n",
    "\n",
    "# Assuming 'data' is your DataFrame containing the 'review_time' column\n",
    "data = df.sort_values(by='review_time')\n",
    "\n",
    "def split_dfs(df): \n",
    "    trainvals = df.iloc[:int(len(df)*0.8)] \n",
    "    testvals = df.iloc[int(len(df)*0.8):] \n",
    "    return {'train_start': min(trainvals.review_time).date(), \n",
    "            'train_end': max(trainvals.review_time).date(), \n",
    "            'test_start': min(testvals.review_time).date(), \n",
    "            'test_end': max(testvals.review_time).date()}\n",
    "\n",
    "split_dict = split_dfs(data)"
   ]
  },
  {
   "cell_type": "code",
   "execution_count": 32,
   "metadata": {},
   "outputs": [
    {
     "name": "stdout",
     "output_type": "stream",
     "text": [
      "Training dataset job started successfully, you can follow the progress at \n",
      "https://c.app.hopsworks.ai/p/550037/jobs/named/user_beer_feature_view_1_create_fv_td_06052024185240/executions\n"
     ]
    },
    {
     "name": "stderr",
     "output_type": "stream",
     "text": [
      "VersionWarning: Incremented version to `1`.\n"
     ]
    },
    {
     "name": "stdout",
     "output_type": "stream",
     "text": [
      "Training dataset job started successfully, you can follow the progress at \n",
      "https://c.app.hopsworks.ai/p/550037/jobs/named/user_beer_feature_view_1_create_fv_td_06052024185246/executions\n"
     ]
    },
    {
     "name": "stderr",
     "output_type": "stream",
     "text": [
      "VersionWarning: Incremented version to `2`.\n"
     ]
    }
   ],
   "source": [
    "# Create training dataset based on event time filter\n",
    "td_train_version, td_job_train = user_beer_feature_view.create_training_data(\n",
    "    start_time=split_dict[\"train_start\"],\n",
    "    end_time=split_dict[\"train_end\"],\n",
    "    description='Training dataset for user beer ratings',\n",
    "    data_format=\"csv\",\n",
    "    coalesce=True,\n",
    "    write_options={'wait_for_job': False},\n",
    ")\n",
    "\n",
    "# Create test dataset based on event time filter\n",
    "td_test_version, td_job_test = user_beer_feature_view.create_training_data(\n",
    "    start_time=split_dict[\"test_start\"],\n",
    "    end_time=split_dict[\"test_end\"],\n",
    "    description='Test dataset for user beer ratings',\n",
    "    data_format=\"csv\",\n",
    "    coalesce=True,\n",
    "    write_options={'wait_for_job': False},\n",
    ")"
   ]
  }
 ],
 "metadata": {
  "kernelspec": {
   "display_name": "MLOPS",
   "language": "python",
   "name": "python3"
  },
  "language_info": {
   "codemirror_mode": {
    "name": "ipython",
    "version": 3
   },
   "file_extension": ".py",
   "mimetype": "text/x-python",
   "name": "python",
   "nbconvert_exporter": "python",
   "pygments_lexer": "ipython3",
   "version": "3.12.2"
  }
 },
 "nbformat": 4,
 "nbformat_minor": 2
}
