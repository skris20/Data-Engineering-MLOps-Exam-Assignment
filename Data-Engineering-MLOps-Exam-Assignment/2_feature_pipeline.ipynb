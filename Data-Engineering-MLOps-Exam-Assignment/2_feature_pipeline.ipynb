{
 "cells": [
  {
   "cell_type": "markdown",
   "metadata": {},
   "source": [
    "# Training Data & Feature views"
   ]
  },
  {
   "cell_type": "code",
   "execution_count": null,
   "metadata": {},
   "outputs": [],
   "source": [
    "import pandas as pd\n",
    "import numpy as np\n",
    "import datetime\n",
    "import hopsworks\n",
    "import random\n",
    "import gdown"
   ]
  },
  {
   "cell_type": "code",
   "execution_count": null,
   "metadata": {},
   "outputs": [],
   "source": [
    "project = hopsworks.login()\n",
    "fs = project.get_feature_store()"
   ]
  },
  {
   "cell_type": "markdown",
   "metadata": {},
   "source": [
    "## <span style=\"color:#ff5f27;\"> ⚙️ Feature View Creation </span>"
   ]
  },
  {
   "cell_type": "code",
   "execution_count": null,
   "metadata": {},
   "outputs": [],
   "source": [
    "def create_beer_rating_feature_view(fs, version=1):\n",
    "    # Retrieve feature groups\n",
    "    beer_fg = fs.get_feature_group('beer_features', version=version)\n",
    "    review_fg = fs.get_feature_group('review_features', version=version)\n",
    "    reviewer_fg = fs.get_feature_group('reviewer_metrics', version=version)\n",
    "    \n",
    "    # Define the join queries properly\n",
    "    ds_query = beer_fg.select_all()\\\n",
    "        .join(review_fg.select_all(), on='beer_beerid')\\\n",
    "        .join(reviewer_fg.select_all(), on='review_profilename')\n",
    "    \n",
    "    # Define transformation functions for relevant features\n",
    "    transformation_functions = {\n",
    "        'review_aroma': fs.get_transformation_function(name='min_max_scaler'),\n",
    "        'review_taste': fs.get_transformation_function(name='min_max_scaler'),\n",
    "        # Additional transformations can be defined as needed\n",
    "    }\n",
    "    \n",
    "    # Create and return the feature view\n",
    "    return fs.create_feature_view(\n",
    "        name='beer_rating_feature_view',\n",
    "        query=ds_query,\n",
    "        labels=['review_overall'],  # assuming review_overall is your target variable\n",
    "        transformation_functions=transformation_functions\n",
    "    )\n",
    "\n",
    "# Attempt to create or retrieve the feature view\n",
    "version=1\n",
    "try:\n",
    "    feature_view = fs.get_feature_view(\"beer_rating_feature_view\", version=version)\n",
    "except Exception as e:\n",
    "    print(e)\n",
    "    feature_view = create_beer_rating_feature_view(fs, version)"
   ]
  },
  {
   "cell_type": "code",
   "execution_count": null,
   "metadata": {},
   "outputs": [],
   "source": [
    "import datetime\n",
    "\n",
    "# Retrieve feature groups\n",
    "beer_fg = fs.get_feature_group('beer_features', version=1)\n",
    "review_fg = fs.get_feature_group('review_features', version=1)\n",
    "reviewer_fg = fs.get_feature_group('reviewer_metrics', version=1)\n",
    "\n",
    "# Use the review_fg variable you've just defined\n",
    "pdf = review_fg.read()\n",
    "\n",
    "def split_dfs(df):\n",
    "    # Convert 'review_time' to datetime and ensure it's in the correct format\n",
    "    df['datetime'] = df['review_time'].map(lambda x: datetime.datetime.fromtimestamp(x // 1000))\n",
    "    df = df.sort_values(by='datetime')\n",
    "    \n",
    "    # Define the split point\n",
    "    trainvals = df[:int(len(df) * 0.8)]\n",
    "    testvals = df[int(len(df) * 0.8):]\n",
    "    \n",
    "    # Return the split as date ranges\n",
    "    return {\n",
    "        'train_start': min(trainvals['datetime']).date(),\n",
    "        'train_end': max(trainvals['datetime']).date(),\n",
    "        'test_start': min(testvals['datetime']).date(),\n",
    "        'test_end': max(testvals['datetime']).date()\n",
    "    }\n",
    "\n",
    "# Apply the split function\n",
    "split_dict = split_dfs(pdf)"
   ]
  }
 ],
 "metadata": {
  "kernelspec": {
   "display_name": "MLOPS",
   "language": "python",
   "name": "python3"
  },
  "language_info": {
   "codemirror_mode": {
    "name": "ipython",
    "version": 3
   },
   "file_extension": ".py",
   "mimetype": "text/x-python",
   "name": "python",
   "nbconvert_exporter": "python",
   "pygments_lexer": "ipython3",
   "version": "3.12.2"
  }
 },
 "nbformat": 4,
 "nbformat_minor": 2
}
