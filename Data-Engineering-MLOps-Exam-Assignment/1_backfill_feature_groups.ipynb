{
 "cells": [
  {
   "cell_type": "markdown",
   "metadata": {},
   "source": [
    "## <span style=\"color:#ff5f27;\"> 💽 Loading the Data </span>"
   ]
  },
  {
   "cell_type": "code",
   "execution_count": 1,
   "metadata": {},
   "outputs": [],
   "source": [
    "#!pip install -U hopsworks --quiet"
   ]
  },
  {
   "cell_type": "code",
   "execution_count": 2,
   "metadata": {},
   "outputs": [],
   "source": [
    "import numpy as np\n",
    "import pandas as pd\n",
    "import gdown"
   ]
  },
  {
   "cell_type": "code",
   "execution_count": 3,
   "metadata": {},
   "outputs": [
    {
     "name": "stderr",
     "output_type": "stream",
     "text": [
      "Downloading...\n",
      "From (original): https://drive.google.com/uc?id=1bxaIuvmGoCD8mOnlVJdATP0zvYlc_8e5\n",
      "From (redirected): https://drive.google.com/uc?id=1bxaIuvmGoCD8mOnlVJdATP0zvYlc_8e5&confirm=t&uuid=6d78289b-0995-4d0a-b7c0-fc85a344ac89\n",
      "To: /Users/sebatiankristensen/Desktop/Data-Engineering-MLOps-Exam-Assignment-1/Data-Engineering-MLOps-Exam-Assignment/ratebeer.csv\n",
      "100%|██████████| 1.13G/1.13G [00:50<00:00, 22.3MB/s]\n",
      "/var/folders/mc/mr4g5vtx14zc090r3j7w1y_c0000gn/T/ipykernel_77738/906612467.py:11: DtypeWarning: Columns (1) have mixed types. Specify dtype option on import or set low_memory=False.\n",
      "  data = pd.read_csv(output)\n"
     ]
    }
   ],
   "source": [
    "# Link to the dataset\n",
    "url = 'https://drive.google.com/uc?id=1bxaIuvmGoCD8mOnlVJdATP0zvYlc_8e5'\n",
    "\n",
    "# Output filename\n",
    "output = 'ratebeer.csv'\n",
    "\n",
    "# Download the file from the Google Drive link\n",
    "gdown.download(url, output, quiet=False)\n",
    "\n",
    "# Load the dataset into a pandas DataFrame\n",
    "data = pd.read_csv(output)"
   ]
  },
  {
   "cell_type": "code",
   "execution_count": 4,
   "metadata": {},
   "outputs": [
    {
     "data": {
      "text/html": [
       "<div>\n",
       "<style scoped>\n",
       "    .dataframe tbody tr th:only-of-type {\n",
       "        vertical-align: middle;\n",
       "    }\n",
       "\n",
       "    .dataframe tbody tr th {\n",
       "        vertical-align: top;\n",
       "    }\n",
       "\n",
       "    .dataframe thead th {\n",
       "        text-align: right;\n",
       "    }\n",
       "</style>\n",
       "<table border=\"1\" class=\"dataframe\">\n",
       "  <thead>\n",
       "    <tr style=\"text-align: right;\">\n",
       "      <th></th>\n",
       "      <th>beer_name</th>\n",
       "      <th>beer_beerid</th>\n",
       "      <th>beer_brewerid</th>\n",
       "      <th>beer_abv</th>\n",
       "      <th>beer_style</th>\n",
       "      <th>review_appearance</th>\n",
       "      <th>review_aroma</th>\n",
       "      <th>review_palate</th>\n",
       "      <th>review_taste</th>\n",
       "      <th>review_overall</th>\n",
       "      <th>review_time</th>\n",
       "      <th>review_profilename</th>\n",
       "      <th>review_text</th>\n",
       "    </tr>\n",
       "  </thead>\n",
       "  <tbody>\n",
       "    <tr>\n",
       "      <th>0</th>\n",
       "      <td>John Harvards Simcoe IPA</td>\n",
       "      <td>63836</td>\n",
       "      <td>8481</td>\n",
       "      <td>5.4</td>\n",
       "      <td>India Pale Ale (IPA)</td>\n",
       "      <td>8.0</td>\n",
       "      <td>6.0</td>\n",
       "      <td>6.0</td>\n",
       "      <td>6.0</td>\n",
       "      <td>6.5</td>\n",
       "      <td>1157587200</td>\n",
       "      <td>hopdog</td>\n",
       "      <td>On tap at the Springfield, PA location. Poured...</td>\n",
       "    </tr>\n",
       "    <tr>\n",
       "      <th>1</th>\n",
       "      <td>John Harvards Simcoe IPA</td>\n",
       "      <td>63836</td>\n",
       "      <td>8481</td>\n",
       "      <td>5.4</td>\n",
       "      <td>India Pale Ale (IPA)</td>\n",
       "      <td>8.0</td>\n",
       "      <td>6.0</td>\n",
       "      <td>8.0</td>\n",
       "      <td>7.0</td>\n",
       "      <td>6.5</td>\n",
       "      <td>1157241600</td>\n",
       "      <td>TomDecapolis</td>\n",
       "      <td>On tap at the John Harvards in Springfield PA....</td>\n",
       "    </tr>\n",
       "    <tr>\n",
       "      <th>2</th>\n",
       "      <td>John Harvards Cristal Pilsner</td>\n",
       "      <td>71716</td>\n",
       "      <td>8481</td>\n",
       "      <td>5.0</td>\n",
       "      <td>Bohemian Pilsener</td>\n",
       "      <td>8.0</td>\n",
       "      <td>5.0</td>\n",
       "      <td>6.0</td>\n",
       "      <td>6.0</td>\n",
       "      <td>7.0</td>\n",
       "      <td>958694400</td>\n",
       "      <td>PhillyBeer2112</td>\n",
       "      <td>UPDATED: FEB 19, 2003 Springfield, PA. I've ne...</td>\n",
       "    </tr>\n",
       "    <tr>\n",
       "      <th>3</th>\n",
       "      <td>John Harvards Fancy Lawnmower Beer</td>\n",
       "      <td>64125</td>\n",
       "      <td>8481</td>\n",
       "      <td>5.4</td>\n",
       "      <td>Kölsch</td>\n",
       "      <td>4.0</td>\n",
       "      <td>4.0</td>\n",
       "      <td>4.0</td>\n",
       "      <td>4.0</td>\n",
       "      <td>4.0</td>\n",
       "      <td>1157587200</td>\n",
       "      <td>TomDecapolis</td>\n",
       "      <td>On tap the Springfield PA location billed as t...</td>\n",
       "    </tr>\n",
       "    <tr>\n",
       "      <th>4</th>\n",
       "      <td>John Harvards Fancy Lawnmower Beer</td>\n",
       "      <td>64125</td>\n",
       "      <td>8481</td>\n",
       "      <td>5.4</td>\n",
       "      <td>Kölsch</td>\n",
       "      <td>4.0</td>\n",
       "      <td>4.0</td>\n",
       "      <td>4.0</td>\n",
       "      <td>4.0</td>\n",
       "      <td>4.0</td>\n",
       "      <td>1157587200</td>\n",
       "      <td>hopdog</td>\n",
       "      <td>On tap at the Springfield, PA location. Poured...</td>\n",
       "    </tr>\n",
       "  </tbody>\n",
       "</table>\n",
       "</div>"
      ],
      "text/plain": [
       "                            beer_name beer_beerid  beer_brewerid  beer_abv  \\\n",
       "0            John Harvards Simcoe IPA       63836           8481       5.4   \n",
       "1            John Harvards Simcoe IPA       63836           8481       5.4   \n",
       "2       John Harvards Cristal Pilsner       71716           8481       5.0   \n",
       "3  John Harvards Fancy Lawnmower Beer       64125           8481       5.4   \n",
       "4  John Harvards Fancy Lawnmower Beer       64125           8481       5.4   \n",
       "\n",
       "             beer_style  review_appearance  review_aroma  review_palate  \\\n",
       "0  India Pale Ale (IPA)                8.0           6.0            6.0   \n",
       "1  India Pale Ale (IPA)                8.0           6.0            8.0   \n",
       "2     Bohemian Pilsener                8.0           5.0            6.0   \n",
       "3                Kölsch                4.0           4.0            4.0   \n",
       "4                Kölsch                4.0           4.0            4.0   \n",
       "\n",
       "   review_taste  review_overall  review_time review_profilename  \\\n",
       "0           6.0             6.5   1157587200             hopdog   \n",
       "1           7.0             6.5   1157241600       TomDecapolis   \n",
       "2           6.0             7.0    958694400     PhillyBeer2112   \n",
       "3           4.0             4.0   1157587200       TomDecapolis   \n",
       "4           4.0             4.0   1157587200             hopdog   \n",
       "\n",
       "                                         review_text  \n",
       "0  On tap at the Springfield, PA location. Poured...  \n",
       "1  On tap at the John Harvards in Springfield PA....  \n",
       "2  UPDATED: FEB 19, 2003 Springfield, PA. I've ne...  \n",
       "3  On tap the Springfield PA location billed as t...  \n",
       "4  On tap at the Springfield, PA location. Poured...  "
      ]
     },
     "execution_count": 4,
     "metadata": {},
     "output_type": "execute_result"
    }
   ],
   "source": [
    "# Check the first few rows of the dataframe\n",
    "data.head()"
   ]
  },
  {
   "cell_type": "markdown",
   "metadata": {},
   "source": [
    "## <span style=\"color:#ff5f27;\"> 🛠️ Feature Engineering </span>"
   ]
  },
  {
   "cell_type": "code",
   "execution_count": 5,
   "metadata": {},
   "outputs": [],
   "source": [
    "# Converting the timestamp to datetime and updating the review_time column\n",
    "data['review_time'] = pd.to_datetime(data['review_time'], unit='s')"
   ]
  },
  {
   "cell_type": "code",
   "execution_count": 6,
   "metadata": {},
   "outputs": [],
   "source": [
    "# Extracting the year, month, and day of the week from the datetime\n",
    "data['year'] = data['review_time'].dt.year\n",
    "data['month'] = data['review_time'].dt.month\n",
    "data['day_of_week'] = data['review_time'].dt.dayofweek  # Monday=0, Sunday=6"
   ]
  },
  {
   "cell_type": "code",
   "execution_count": 7,
   "metadata": {},
   "outputs": [
    {
     "data": {
      "text/html": [
       "<div>\n",
       "<style scoped>\n",
       "    .dataframe tbody tr th:only-of-type {\n",
       "        vertical-align: middle;\n",
       "    }\n",
       "\n",
       "    .dataframe tbody tr th {\n",
       "        vertical-align: top;\n",
       "    }\n",
       "\n",
       "    .dataframe thead th {\n",
       "        text-align: right;\n",
       "    }\n",
       "</style>\n",
       "<table border=\"1\" class=\"dataframe\">\n",
       "  <thead>\n",
       "    <tr style=\"text-align: right;\">\n",
       "      <th></th>\n",
       "      <th>beer_beerid</th>\n",
       "      <th>avg_overall</th>\n",
       "      <th>review_count</th>\n",
       "      <th>avg_aroma</th>\n",
       "      <th>avg_palate</th>\n",
       "      <th>avg_taste</th>\n",
       "      <th>avg_appearance</th>\n",
       "    </tr>\n",
       "  </thead>\n",
       "  <tbody>\n",
       "    <tr>\n",
       "      <th>0</th>\n",
       "      <td>13</td>\n",
       "      <td>6.886114</td>\n",
       "      <td>821</td>\n",
       "      <td>6.371498</td>\n",
       "      <td>6.730816</td>\n",
       "      <td>6.651644</td>\n",
       "      <td>7.049939</td>\n",
       "    </tr>\n",
       "    <tr>\n",
       "      <th>1</th>\n",
       "      <td>14</td>\n",
       "      <td>6.704887</td>\n",
       "      <td>266</td>\n",
       "      <td>6.259398</td>\n",
       "      <td>6.443609</td>\n",
       "      <td>6.383459</td>\n",
       "      <td>6.563910</td>\n",
       "    </tr>\n",
       "    <tr>\n",
       "      <th>2</th>\n",
       "      <td>15</td>\n",
       "      <td>7.215976</td>\n",
       "      <td>169</td>\n",
       "      <td>6.739645</td>\n",
       "      <td>6.970414</td>\n",
       "      <td>6.905325</td>\n",
       "      <td>7.337278</td>\n",
       "    </tr>\n",
       "    <tr>\n",
       "      <th>3</th>\n",
       "      <td>16</td>\n",
       "      <td>7.953747</td>\n",
       "      <td>1081</td>\n",
       "      <td>7.716004</td>\n",
       "      <td>7.574468</td>\n",
       "      <td>7.666050</td>\n",
       "      <td>7.922294</td>\n",
       "    </tr>\n",
       "    <tr>\n",
       "      <th>4</th>\n",
       "      <td>17</td>\n",
       "      <td>7.033994</td>\n",
       "      <td>353</td>\n",
       "      <td>6.691218</td>\n",
       "      <td>6.691218</td>\n",
       "      <td>6.781870</td>\n",
       "      <td>7.359773</td>\n",
       "    </tr>\n",
       "    <tr>\n",
       "      <th>...</th>\n",
       "      <td>...</td>\n",
       "      <td>...</td>\n",
       "      <td>...</td>\n",
       "      <td>...</td>\n",
       "      <td>...</td>\n",
       "      <td>...</td>\n",
       "      <td>...</td>\n",
       "    </tr>\n",
       "    <tr>\n",
       "      <th>87505</th>\n",
       "      <td>broyarde-l`eclipse-80766</td>\n",
       "      <td>6.333333</td>\n",
       "      <td>3</td>\n",
       "      <td>6.666667</td>\n",
       "      <td>6.000000</td>\n",
       "      <td>6.666667</td>\n",
       "      <td>7.333333</td>\n",
       "    </tr>\n",
       "    <tr>\n",
       "      <th>87506</th>\n",
       "      <td>broyarde-l`harfang-80769</td>\n",
       "      <td>5.250000</td>\n",
       "      <td>6</td>\n",
       "      <td>5.666667</td>\n",
       "      <td>5.000000</td>\n",
       "      <td>5.833333</td>\n",
       "      <td>5.666667</td>\n",
       "    </tr>\n",
       "    <tr>\n",
       "      <th>87507</th>\n",
       "      <td>la-saint-pierre-blonde-de-l`oncle-hansi-91690</td>\n",
       "      <td>5.666667</td>\n",
       "      <td>15</td>\n",
       "      <td>5.933333</td>\n",
       "      <td>5.733333</td>\n",
       "      <td>6.000000</td>\n",
       "      <td>5.866667</td>\n",
       "    </tr>\n",
       "    <tr>\n",
       "      <th>87508</th>\n",
       "      <td>s`tunnel-45990</td>\n",
       "      <td>6.818182</td>\n",
       "      <td>11</td>\n",
       "      <td>6.454545</td>\n",
       "      <td>6.909091</td>\n",
       "      <td>6.454545</td>\n",
       "      <td>7.636364</td>\n",
       "    </tr>\n",
       "    <tr>\n",
       "      <th>87509</th>\n",
       "      <td>willimantic-casper-courrier`-saison-75766</td>\n",
       "      <td>7.300000</td>\n",
       "      <td>5</td>\n",
       "      <td>6.600000</td>\n",
       "      <td>7.200000</td>\n",
       "      <td>7.200000</td>\n",
       "      <td>6.800000</td>\n",
       "    </tr>\n",
       "  </tbody>\n",
       "</table>\n",
       "<p>87510 rows × 7 columns</p>\n",
       "</div>"
      ],
      "text/plain": [
       "                                         beer_beerid  avg_overall  \\\n",
       "0                                                 13     6.886114   \n",
       "1                                                 14     6.704887   \n",
       "2                                                 15     7.215976   \n",
       "3                                                 16     7.953747   \n",
       "4                                                 17     7.033994   \n",
       "...                                              ...          ...   \n",
       "87505                       broyarde-l`eclipse-80766     6.333333   \n",
       "87506                       broyarde-l`harfang-80769     5.250000   \n",
       "87507  la-saint-pierre-blonde-de-l`oncle-hansi-91690     5.666667   \n",
       "87508                                 s`tunnel-45990     6.818182   \n",
       "87509      willimantic-casper-courrier`-saison-75766     7.300000   \n",
       "\n",
       "       review_count  avg_aroma  avg_palate  avg_taste  avg_appearance  \n",
       "0               821   6.371498    6.730816   6.651644        7.049939  \n",
       "1               266   6.259398    6.443609   6.383459        6.563910  \n",
       "2               169   6.739645    6.970414   6.905325        7.337278  \n",
       "3              1081   7.716004    7.574468   7.666050        7.922294  \n",
       "4               353   6.691218    6.691218   6.781870        7.359773  \n",
       "...             ...        ...         ...        ...             ...  \n",
       "87505             3   6.666667    6.000000   6.666667        7.333333  \n",
       "87506             6   5.666667    5.000000   5.833333        5.666667  \n",
       "87507            15   5.933333    5.733333   6.000000        5.866667  \n",
       "87508            11   6.454545    6.909091   6.454545        7.636364  \n",
       "87509             5   6.600000    7.200000   7.200000        6.800000  \n",
       "\n",
       "[87510 rows x 7 columns]"
      ]
     },
     "execution_count": 7,
     "metadata": {},
     "output_type": "execute_result"
    }
   ],
   "source": [
    "# aggregating the reviews\n",
    "agg_reviews = data.groupby('beer_beerid').agg({\n",
    "    'review_overall': ['mean', 'count'],\n",
    "    'review_aroma': 'mean',\n",
    "    'review_palate': 'mean',\n",
    "    'review_taste': 'mean',\n",
    "    'review_appearance': 'mean'\n",
    "}).reset_index()\n",
    "agg_reviews.columns = ['beer_beerid', 'avg_overall', 'review_count', 'avg_aroma', 'avg_palate', 'avg_taste', 'avg_appearance']\n",
    "agg_reviews"
   ]
  },
  {
   "cell_type": "code",
   "execution_count": 8,
   "metadata": {},
   "outputs": [
    {
     "data": {
      "text/html": [
       "<div>\n",
       "<style scoped>\n",
       "    .dataframe tbody tr th:only-of-type {\n",
       "        vertical-align: middle;\n",
       "    }\n",
       "\n",
       "    .dataframe tbody tr th {\n",
       "        vertical-align: top;\n",
       "    }\n",
       "\n",
       "    .dataframe thead th {\n",
       "        text-align: right;\n",
       "    }\n",
       "</style>\n",
       "<table border=\"1\" class=\"dataframe\">\n",
       "  <thead>\n",
       "    <tr style=\"text-align: right;\">\n",
       "      <th></th>\n",
       "      <th>review_profilename</th>\n",
       "      <th>review_count</th>\n",
       "    </tr>\n",
       "  </thead>\n",
       "  <tbody>\n",
       "    <tr>\n",
       "      <th>0</th>\n",
       "      <td>-BB-99</td>\n",
       "      <td>2</td>\n",
       "    </tr>\n",
       "    <tr>\n",
       "      <th>1</th>\n",
       "      <td>000pete1983</td>\n",
       "      <td>1</td>\n",
       "    </tr>\n",
       "    <tr>\n",
       "      <th>2</th>\n",
       "      <td>007BeerDrinker</td>\n",
       "      <td>1</td>\n",
       "    </tr>\n",
       "    <tr>\n",
       "      <th>3</th>\n",
       "      <td>007Lager</td>\n",
       "      <td>1</td>\n",
       "    </tr>\n",
       "    <tr>\n",
       "      <th>4</th>\n",
       "      <td>007lund</td>\n",
       "      <td>85</td>\n",
       "    </tr>\n",
       "    <tr>\n",
       "      <th>...</th>\n",
       "      <td>...</td>\n",
       "      <td>...</td>\n",
       "    </tr>\n",
       "    <tr>\n",
       "      <th>28681</th>\n",
       "      <td>zygomatic99</td>\n",
       "      <td>12</td>\n",
       "    </tr>\n",
       "    <tr>\n",
       "      <th>28682</th>\n",
       "      <td>zyster99</td>\n",
       "      <td>16</td>\n",
       "    </tr>\n",
       "    <tr>\n",
       "      <th>28683</th>\n",
       "      <td>zywiecporter</td>\n",
       "      <td>9</td>\n",
       "    </tr>\n",
       "    <tr>\n",
       "      <th>28684</th>\n",
       "      <td>zziemelis</td>\n",
       "      <td>5</td>\n",
       "    </tr>\n",
       "    <tr>\n",
       "      <th>28685</th>\n",
       "      <td>Óminnishegri</td>\n",
       "      <td>4</td>\n",
       "    </tr>\n",
       "  </tbody>\n",
       "</table>\n",
       "<p>28686 rows × 2 columns</p>\n",
       "</div>"
      ],
      "text/plain": [
       "      review_profilename  review_count\n",
       "0                 -BB-99             2\n",
       "1            000pete1983             1\n",
       "2         007BeerDrinker             1\n",
       "3               007Lager             1\n",
       "4                007lund            85\n",
       "...                  ...           ...\n",
       "28681        zygomatic99            12\n",
       "28682           zyster99            16\n",
       "28683       zywiecporter             9\n",
       "28684          zziemelis             5\n",
       "28685       Óminnishegri             4\n",
       "\n",
       "[28686 rows x 2 columns]"
      ]
     },
     "execution_count": 8,
     "metadata": {},
     "output_type": "execute_result"
    }
   ],
   "source": [
    "# Group data by reviewer names, count their reviews, and reset index to form a DataFrame with 'review_profilename' and 'review_count' columns.\n",
    "reviewer_metrics = data.groupby('review_profilename').size().reset_index(name='review_count')\n",
    "reviewer_metrics"
   ]
  },
  {
   "cell_type": "code",
   "execution_count": 9,
   "metadata": {},
   "outputs": [],
   "source": [
    "import pickle\n",
    "\n",
    "# Generating a pickle\n",
    "with open('ratebeer.pkl', 'wb') as file:\n",
    "    pickle.dump(data, file)"
   ]
  },
  {
   "cell_type": "markdown",
   "metadata": {},
   "source": [
    "## <span style=\"color:#ff5f27;\"> 🪄 Creating Feature Groups in Hopsworks </span>"
   ]
  },
  {
   "cell_type": "markdown",
   "metadata": {},
   "source": [
    "### Setting Up Hopsworks"
   ]
  },
  {
   "cell_type": "code",
   "execution_count": 10,
   "metadata": {},
   "outputs": [
    {
     "name": "stderr",
     "output_type": "stream",
     "text": [
      "/opt/anaconda3/envs/MLOps/lib/python3.11/site-packages/tqdm/auto.py:21: TqdmWarning: IProgress not found. Please update jupyter and ipywidgets. See https://ipywidgets.readthedocs.io/en/stable/user_install.html\n",
      "  from .autonotebook import tqdm as notebook_tqdm\n"
     ]
    },
    {
     "name": "stdout",
     "output_type": "stream",
     "text": [
      "Connected. Call `.close()` to terminate connection gracefully.\n",
      "\n",
      "Logged in to project, explore it here https://c.app.hopsworks.ai:443/p/550038\n",
      "Connected. Call `.close()` to terminate connection gracefully.\n"
     ]
    }
   ],
   "source": [
    "# intizialize Hopworks\n",
    "import hopsworks as hs\n",
    "project = hs.login()\n",
    "fs = project.get_feature_store()"
   ]
  },
  {
   "cell_type": "markdown",
   "metadata": {},
   "source": [
    "### Preproccessing for Hopsworks"
   ]
  },
  {
   "cell_type": "code",
   "execution_count": 11,
   "metadata": {},
   "outputs": [],
   "source": [
    "import re\n",
    "\n",
    "# Create a mapping dictionary to replace \"/\" with \"_\" for hopsworks compatibility\n",
    "column_mapping = {col: col.replace(\"/\", \"_\") for col in data.columns}\n",
    "\n",
    "# Rename the columns using the mapping dictionary\n",
    "data.rename(columns=column_mapping, inplace=True)\n",
    "\n",
    "# Convert all feature names to lowercase\n",
    "data.columns = data.columns.str.lower()\n",
    "\n",
    "# Replace spaces with underscores\n",
    "data.columns = data.columns.str.replace(' ', '_')\n",
    "\n",
    "# Rename the columns\n",
    "data.rename(columns=lambda x: re.sub(r'[^a-zA-Z0-9]', '_', x), inplace=True)\n",
    "\n",
    "# Assuming beer_features is your DataFrame containing the features\n",
    "\n",
    "# Replace invalid characters with underscores\n",
    "data.columns = data.columns.str.replace('[^a-zA-Z0-9_]', '_')\n",
    "\n",
    "# Ensure feature names length does not exceed 63 characters\n",
    "data.columns = [col[:63] for col in data.columns]"
   ]
  },
  {
   "cell_type": "markdown",
   "metadata": {},
   "source": [
    "### Beer Features"
   ]
  },
  {
   "cell_type": "code",
   "execution_count": 12,
   "metadata": {},
   "outputs": [],
   "source": [
    "# Collect columns for beer features, including one-hot encoded styles\n",
    "beer_columns = ['beer_beerid', 'beer_name', 'beer_brewerid', 'beer_abv', 'review_profilename', 'review_time'] + [col for col in data.columns if col.startswith('style_')]\n",
    "beer_features = data[beer_columns].drop_duplicates(subset=['beer_beerid']).dropna(subset=['beer_beerid'])\n"
   ]
  },
  {
   "cell_type": "code",
   "execution_count": 13,
   "metadata": {},
   "outputs": [],
   "source": [
    "# Convert data types immediately after defining beer_columns\n",
    "data['beer_beerid'] = pd.to_numeric(data['beer_beerid'], errors='coerce').astype('Int64')\n",
    "data['beer_brewerid'] = pd.to_numeric(data['beer_brewerid'], errors='coerce').astype('Int64')\n",
    "data['beer_abv'] = pd.to_numeric(data['beer_abv'], errors='coerce').astype(float)\n",
    "\n",
    "# Now collect the columns\n",
    "beer_features = data[beer_columns].drop_duplicates(subset=['beer_beerid']).dropna(subset=['beer_beerid'])"
   ]
  },
  {
   "cell_type": "code",
   "execution_count": 14,
   "metadata": {},
   "outputs": [],
   "source": [
    "# Feature group for Beers\n",
    "beer_fg = fs.get_or_create_feature_group(\n",
    "    name=\"beer_features\",\n",
    "    version=1,\n",
    "    description=\"Basic information about beers, including one-hot encoded styles\",\n",
    "    primary_key=['beer_beerid'],\n",
    "    event_time=\"review_time\",\n",
    "    online_enabled=True\n",
    ")\n"
   ]
  },
  {
   "cell_type": "code",
   "execution_count": 15,
   "metadata": {},
   "outputs": [
    {
     "name": "stdout",
     "output_type": "stream",
     "text": [
      "Feature Group created successfully, explore it at \n",
      "https://c.app.hopsworks.ai:443/p/550038/fs/545861/fg/787861\n"
     ]
    },
    {
     "name": "stderr",
     "output_type": "stream",
     "text": [
      "Uploading Dataframe: 100.00% |██████████| Rows 87199/87199 | Elapsed Time: 00:12 | Remaining Time: 00:00\n"
     ]
    },
    {
     "name": "stdout",
     "output_type": "stream",
     "text": [
      "Launching job: beer_features_1_offline_fg_materialization\n",
      "Job started successfully, you can follow the progress at \n",
      "https://c.app.hopsworks.ai/p/550038/jobs/named/beer_features_1_offline_fg_materialization/executions\n",
      "Data insertion initiated successfully.\n"
     ]
    }
   ],
   "source": [
    "try:\n",
    "    beer_fg.insert(beer_features, write_options={\"wait_for_job\" : False})\n",
    "    print(\"Data insertion initiated successfully.\")\n",
    "except Exception as e:\n",
    "    print(\"Failed to insert data:\", e)\n"
   ]
  },
  {
   "cell_type": "code",
   "execution_count": 16,
   "metadata": {},
   "outputs": [],
   "source": [
    "# update beer feature descriptions\n",
    "beer_feature_descriptions = {\n",
    "    \"beer_beerid\": \"Unique identifier for each beer.\",\n",
    "    \"beer_name\": \"Name of the beer.\",\n",
    "    \"beer_brewerid\": \"Identifier for the brewer of the beer.\",\n",
    "    \"beer_abv\": \"Alcohol by volume percentage of the beer.\",\n",
    "}\n",
    "\n",
    "# Update descriptions for Beer Features\n",
    "for feature, description in beer_feature_descriptions.items():\n",
    "    beer_fg.update_feature_description(feature, description)"
   ]
  },
  {
   "cell_type": "markdown",
   "metadata": {},
   "source": [
    "### Review Features"
   ]
  },
  {
   "cell_type": "code",
   "execution_count": 17,
   "metadata": {},
   "outputs": [],
   "source": [
    "# Feature Group for Reviews\n",
    "review_columns = ['review_appearance', 'review_aroma', 'review_palate', 'review_taste', 'review_overall', 'beer_beerid', 'review_profilename', 'review_time']\n",
    "review_features = data[review_columns].drop_duplicates().dropna(subset=['beer_beerid'])"
   ]
  },
  {
   "cell_type": "code",
   "execution_count": 18,
   "metadata": {},
   "outputs": [],
   "source": [
    "# Convert data types\n",
    "review_features['beer_beerid'] = pd.to_numeric(review_features['beer_beerid'], errors='coerce').astype('Int64')\n",
    "review_features['review_time'] = pd.to_datetime(review_features['review_time'], unit='s')"
   ]
  },
  {
   "cell_type": "code",
   "execution_count": 19,
   "metadata": {},
   "outputs": [],
   "source": [
    "# Drop rows with missing values again after converting data types\n",
    "review_features = review_features.dropna(subset=['beer_beerid'])"
   ]
  },
  {
   "cell_type": "code",
   "execution_count": 20,
   "metadata": {},
   "outputs": [],
   "source": [
    "review_fg = fs.get_or_create_feature_group(\n",
    "    name=\"review_features\",\n",
    "    version=1,\n",
    "    description=\"Metrics about beer reviews, including user profiles\",\n",
    "    primary_key=['beer_beerid', 'review_profilename'],\n",
    "    event_time=\"review_time\",\n",
    "    online_enabled=True\n",
    ")"
   ]
  },
  {
   "cell_type": "code",
   "execution_count": 21,
   "metadata": {},
   "outputs": [
    {
     "name": "stdout",
     "output_type": "stream",
     "text": [
      "Feature Group created successfully, explore it at \n",
      "https://c.app.hopsworks.ai:443/p/550038/fs/545861/fg/787862\n"
     ]
    },
    {
     "name": "stderr",
     "output_type": "stream",
     "text": [
      "Uploading Dataframe: 100.00% |██████████| Rows 2715055/2715055 | Elapsed Time: 03:35 | Remaining Time: 00:00\n"
     ]
    },
    {
     "name": "stdout",
     "output_type": "stream",
     "text": [
      "Launching job: review_features_1_offline_fg_materialization\n",
      "Job started successfully, you can follow the progress at \n",
      "https://c.app.hopsworks.ai/p/550038/jobs/named/review_features_1_offline_fg_materialization/executions\n",
      "Data insertion initiated successfully.\n"
     ]
    }
   ],
   "source": [
    "try:\n",
    "    review_fg.insert(review_features, write_options={\"wait_for_job\" : False})\n",
    "    print(\"Data insertion initiated successfully.\")\n",
    "except Exception as e:\n",
    "    print(\"Failed to insert data:\", e)"
   ]
  },
  {
   "cell_type": "code",
   "execution_count": 22,
   "metadata": {},
   "outputs": [],
   "source": [
    "# update review feature descriptions\n",
    "review_feature_descriptions = {\n",
    "    \"review_appearance\": \"Rating of the beer's appearance (1-10).\",\n",
    "    \"review_aroma\": \"Rating of the beer's aroma (1-10).\",\n",
    "    \"review_palate\": \"Rating of the beer's palate (1-10).\",\n",
    "    \"review_taste\": \"Rating of the beer's taste (1-10).\",\n",
    "    \"review_overall\": \"Overall rating of the beer (1-10).\",\n",
    "    \"beer_beerid\": \"Associated unique identifier for each beer.\",\n",
    "    \"review_profilename\": \"Username of the reviewer.\",\n",
    "    \"review_time\": \"Timestamp of the review.\"\n",
    "}\n",
    "\n",
    "# Update descriptions for Review Features\n",
    "for feature, description in review_feature_descriptions.items():\n",
    "    review_fg.update_feature_description(feature, description)"
   ]
  },
  {
   "cell_type": "markdown",
   "metadata": {},
   "source": [
    "### Aggregated Beer Reviews Features"
   ]
  },
  {
   "cell_type": "code",
   "execution_count": 23,
   "metadata": {},
   "outputs": [],
   "source": [
    "agg_reviews['beer_beerid'] = pd.to_numeric(agg_reviews['beer_beerid'], errors='coerce').astype('Int64')"
   ]
  },
  {
   "cell_type": "code",
   "execution_count": 24,
   "metadata": {},
   "outputs": [],
   "source": [
    "# Ensure all relevant fields are integers or floats as needed\n",
    "agg_reviews['beer_beerid'] = pd.to_numeric(agg_reviews['beer_beerid'], errors='coerce').astype('Int64')\n",
    "agg_reviews['avg_overall'] = pd.to_numeric(agg_reviews['avg_overall'], errors='coerce').astype(float)\n",
    "agg_reviews['avg_aroma'] = pd.to_numeric(agg_reviews['avg_aroma'], errors='coerce').astype(float)\n",
    "agg_reviews['avg_palate'] = pd.to_numeric(agg_reviews['avg_palate'], errors='coerce').astype(float)\n",
    "agg_reviews['avg_taste'] = pd.to_numeric(agg_reviews['avg_taste'], errors='coerce').astype(float)\n",
    "agg_reviews['avg_appearance'] = pd.to_numeric(agg_reviews['avg_appearance'], errors='coerce').astype(float)"
   ]
  },
  {
   "cell_type": "code",
   "execution_count": 25,
   "metadata": {},
   "outputs": [],
   "source": [
    "# Drop rows where the primary key is null if any\n",
    "agg_reviews = agg_reviews.dropna(subset=['beer_beerid'])"
   ]
  },
  {
   "cell_type": "code",
   "execution_count": 26,
   "metadata": {},
   "outputs": [],
   "source": [
    "# Create the feature group for aggregated beer reviews\n",
    "agg_reviews_fg = fs.get_or_create_feature_group(\n",
    "    name=\"agg_reviews\",\n",
    "    version=1,\n",
    "    description=\"Aggregated review metrics for each beer\",\n",
    "    primary_key=['beer_beerid'],\n",
    "    online_enabled=True\n",
    ")"
   ]
  },
  {
   "cell_type": "code",
   "execution_count": 27,
   "metadata": {},
   "outputs": [
    {
     "name": "stdout",
     "output_type": "stream",
     "text": [
      "Feature Group created successfully, explore it at \n",
      "https://c.app.hopsworks.ai:443/p/550038/fs/545861/fg/787863\n"
     ]
    },
    {
     "name": "stderr",
     "output_type": "stream",
     "text": [
      "Uploading Dataframe: 100.00% |██████████| Rows 87505/87505 | Elapsed Time: 00:11 | Remaining Time: 00:00\n"
     ]
    },
    {
     "name": "stdout",
     "output_type": "stream",
     "text": [
      "Launching job: agg_reviews_1_offline_fg_materialization\n",
      "Job started successfully, you can follow the progress at \n",
      "https://c.app.hopsworks.ai/p/550038/jobs/named/agg_reviews_1_offline_fg_materialization/executions\n",
      "Data insertion initiated successfully.\n"
     ]
    }
   ],
   "source": [
    "try:\n",
    "    agg_reviews_fg.insert(agg_reviews, write_options={\"wait_for_job\" : False})\n",
    "    print(\"Data insertion initiated successfully.\")\n",
    "except Exception as e:\n",
    "    print(\"Failed to insert data:\", e)"
   ]
  },
  {
   "cell_type": "code",
   "execution_count": 28,
   "metadata": {},
   "outputs": [],
   "source": [
    "# Update feature descriptions\n",
    "agg_reviews_feature_descriptions = {\n",
    "    \"beer_beerid\": \"Unique identifier for each beer.\",\n",
    "    \"avg_overall\": \"Average overall rating of the beer.\",\n",
    "    \"review_count\": \"Total number of reviews for the beer.\",\n",
    "    \"avg_aroma\": \"Average aroma rating for the beer.\",\n",
    "    \"avg_palate\": \"Average palate rating for the beer.\",\n",
    "    \"avg_taste\": \"Average taste rating for the beer.\",\n",
    "    \"avg_appearance\": \"Average appearance rating for the beer.\"\n",
    "}\n",
    "\n",
    "for feature, description in agg_reviews_feature_descriptions.items():\n",
    "    agg_reviews_fg.update_feature_description(feature, description)"
   ]
  },
  {
   "cell_type": "markdown",
   "metadata": {},
   "source": [
    "### Reviewer Metrics Features"
   ]
  },
  {
   "cell_type": "code",
   "execution_count": 29,
   "metadata": {},
   "outputs": [
    {
     "name": "stdout",
     "output_type": "stream",
     "text": [
      "Feature Group created successfully, explore it at \n",
      "https://c.app.hopsworks.ai:443/p/550038/fs/545861/fg/787864\n"
     ]
    },
    {
     "name": "stderr",
     "output_type": "stream",
     "text": [
      "Uploading Dataframe: 100.00% |██████████| Rows 28686/28686 | Elapsed Time: 00:07 | Remaining Time: 00:00\n"
     ]
    },
    {
     "name": "stdout",
     "output_type": "stream",
     "text": [
      "Launching job: reviewer_metrics_1_offline_fg_materialization\n",
      "Job started successfully, you can follow the progress at \n",
      "https://c.app.hopsworks.ai/p/550038/jobs/named/reviewer_metrics_1_offline_fg_materialization/executions\n"
     ]
    },
    {
     "data": {
      "text/plain": [
       "(<hsfs.core.job.Job at 0x3902b1250>, None)"
      ]
     },
     "execution_count": 29,
     "metadata": {},
     "output_type": "execute_result"
    }
   ],
   "source": [
    "# Create the feature group for reviewer metrics\n",
    "reviewer_metrics_fg = fs.get_or_create_feature_group(\n",
    "    name=\"reviewer_metrics\",\n",
    "    version=1,\n",
    "    description=\"Count of reviews submitted by each reviewer\",\n",
    "    primary_key=['review_profilename'],\n",
    "    online_enabled=True\n",
    ")\n",
    "\n",
    "# Insert the data into the feature group\n",
    "reviewer_metrics_fg.insert(reviewer_metrics)"
   ]
  },
  {
   "cell_type": "code",
   "execution_count": 30,
   "metadata": {},
   "outputs": [],
   "source": [
    "# Update feature descriptions\n",
    "reviewer_metrics_feature_descriptions = {\n",
    "    \"review_profilename\": \"Username of the reviewer.\",\n",
    "    \"review_count\": \"Total number of reviews submitted by the reviewer.\"\n",
    "}\n",
    "\n",
    "for feature, description in reviewer_metrics_feature_descriptions.items():\n",
    "    reviewer_metrics_fg.update_feature_description(feature, description)"
   ]
  }
 ],
 "metadata": {
  "kernelspec": {
   "display_name": "MLOPS",
   "language": "python",
   "name": "python3"
  },
  "language_info": {
   "codemirror_mode": {
    "name": "ipython",
    "version": 3
   },
   "file_extension": ".py",
   "mimetype": "text/x-python",
   "name": "python",
   "nbconvert_exporter": "python",
   "pygments_lexer": "ipython3",
   "version": "3.11.8"
  }
 },
 "nbformat": 4,
 "nbformat_minor": 2
}
