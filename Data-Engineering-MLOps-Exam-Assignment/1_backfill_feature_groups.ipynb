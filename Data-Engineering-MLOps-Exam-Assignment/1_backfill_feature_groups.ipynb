{
 "cells": [
  {
   "cell_type": "markdown",
   "metadata": {},
   "source": [
    "## <span style=\"color:#ff5f27;\"> 💽 Loading the Data </span>"
   ]
  },
  {
   "cell_type": "code",
   "execution_count": 1,
   "metadata": {},
   "outputs": [],
   "source": [
    "!pip install -U hopsworks --quiet"
   ]
  },
  {
   "cell_type": "code",
   "execution_count": 2,
   "metadata": {},
   "outputs": [],
   "source": [
    "!pip install kaggle --quiet"
   ]
  },
  {
   "cell_type": "code",
   "execution_count": 3,
   "metadata": {},
   "outputs": [],
   "source": [
    "import numpy as np\n",
    "import pandas as pd\n",
    "import gdown"
   ]
  },
  {
   "cell_type": "code",
   "execution_count": 4,
   "metadata": {},
   "outputs": [
    {
     "name": "stderr",
     "output_type": "stream",
     "text": [
      "Downloading...\n",
      "From (original): https://drive.google.com/uc?id=1LeoFhTNUZiZ9sbn31jZA6DGN3p36Dsvk\n",
      "From (redirected): https://drive.google.com/uc?id=1LeoFhTNUZiZ9sbn31jZA6DGN3p36Dsvk&confirm=t&uuid=7e68d382-637c-4775-a690-8dd4d637c17d\n",
      "To: /Users/lassehylleberg/Desktop/Data-Engineering-MLOps-Exam-Assignment/Data-Engineering-MLOps-Exam-Assignment/ratebeer.txt\n",
      "100%|██████████| 1.74G/1.74G [01:46<00:00, 16.3MB/s]\n"
     ]
    },
    {
     "data": {
      "text/plain": [
       "'ratebeer.txt'"
      ]
     },
     "execution_count": 4,
     "metadata": {},
     "output_type": "execute_result"
    }
   ],
   "source": [
    "# URL from Google Drive shareable link\n",
    "url = 'https://drive.google.com/uc?id=1LeoFhTNUZiZ9sbn31jZA6DGN3p36Dsvk'\n",
    "\n",
    "# Filename\n",
    "output = 'ratebeer.txt'\n",
    "\n",
    "# Download the file from the URL\n",
    "gdown.download(url, output, quiet=False)"
   ]
  },
  {
   "cell_type": "code",
   "execution_count": 5,
   "metadata": {},
   "outputs": [],
   "source": [
    "# Define the file path to the downloaded file\n",
    "file_path = 'ratebeer.txt'\n",
    "\n",
    "# Define columns\n",
    "columns = ['beer/name', 'beer/beerId', 'beer/brewerId', 'beer/ABV', 'beer/style',\n",
    "           'review/appearance', 'review/aroma', 'review/palate', 'review/taste',\n",
    "           'review/overall', 'review/time', 'review/profileName', 'review/text']\n",
    "data = {col: [] for col in columns}\n",
    "\n",
    "# Read the file\n",
    "with open(file_path, \"r\", encoding=\"ISO-8859-1\") as file:\n",
    "    current_review = {}\n",
    "    for line in file:\n",
    "        line = line.strip()\n",
    "        if line:\n",
    "            try:\n",
    "                key, value = line.split(\": \", 1)\n",
    "                current_review[key] = value\n",
    "            except ValueError:\n",
    "                continue\n",
    "        else:\n",
    "            if current_review:\n",
    "                for col in columns:\n",
    "                    data[col].append(current_review.get(col, np.nan))\n",
    "                current_review = {}\n",
    "\n",
    "# Check for any remaining entries to add\n",
    "if current_review:\n",
    "    for col in columns:\n",
    "        data[col].append(current_review.get(col, np.nan))\n",
    "\n",
    "# Create a DataFrame from the data\n",
    "df = pd.DataFrame(data)"
   ]
  },
  {
   "cell_type": "code",
   "execution_count": 6,
   "metadata": {},
   "outputs": [
    {
     "name": "stdout",
     "output_type": "stream",
     "text": [
      "<class 'pandas.core.frame.DataFrame'>\n",
      "RangeIndex: 2924163 entries, 0 to 2924162\n",
      "Data columns (total 13 columns):\n",
      " #   Column              Dtype \n",
      "---  ------              ----- \n",
      " 0   beer/name           object\n",
      " 1   beer/beerId         object\n",
      " 2   beer/brewerId       object\n",
      " 3   beer/ABV            object\n",
      " 4   beer/style          object\n",
      " 5   review/appearance   object\n",
      " 6   review/aroma        object\n",
      " 7   review/palate       object\n",
      " 8   review/taste        object\n",
      " 9   review/overall      object\n",
      " 10  review/time         object\n",
      " 11  review/profileName  object\n",
      " 12  review/text         object\n",
      "dtypes: object(13)\n",
      "memory usage: 290.0+ MB\n"
     ]
    }
   ],
   "source": [
    "df.info()"
   ]
  },
  {
   "cell_type": "markdown",
   "metadata": {},
   "source": [
    "## <span style=\"color:#ff5f27;\"> 🛠️ Feature Engineering </span>"
   ]
  },
  {
   "cell_type": "code",
   "execution_count": 7,
   "metadata": {},
   "outputs": [
    {
     "name": "stdout",
     "output_type": "stream",
     "text": [
      "<class 'pandas.core.frame.DataFrame'>\n",
      "RangeIndex: 2924163 entries, 0 to 2924162\n",
      "Data columns (total 13 columns):\n",
      " #   Column              Dtype         \n",
      "---  ------              -----         \n",
      " 0   beer/name           object        \n",
      " 1   beer/beerId         float64       \n",
      " 2   beer/brewerId       int16         \n",
      " 3   beer/ABV            float64       \n",
      " 4   beer/style          object        \n",
      " 5   review/appearance   float64       \n",
      " 6   review/aroma        float64       \n",
      " 7   review/palate       float64       \n",
      " 8   review/taste        float64       \n",
      " 9   review/overall      float64       \n",
      " 10  review/time         datetime64[ns]\n",
      " 11  review/profileName  object        \n",
      " 12  review/text         object        \n",
      "dtypes: datetime64[ns](1), float64(7), int16(1), object(4)\n",
      "memory usage: 273.3+ MB\n"
     ]
    }
   ],
   "source": [
    "# Convert numeric columns to float\n",
    "numeric_cols = ['beer/ABV', 'review/appearance', 'review/aroma', 'review/palate', 'review/taste', 'review/overall']\n",
    "df[numeric_cols] = df[numeric_cols].apply(pd.to_numeric, errors='coerce')\n",
    "\n",
    "# Convert ID columns to integers, coerce errors which will convert non-convertible values to NaN\n",
    "id_cols = ['beer/beerId', 'beer/brewerId']\n",
    "df[id_cols] = df[id_cols].apply(pd.to_numeric, errors='coerce', downcast='integer')\n",
    "\n",
    "# Convert review time to datetime\n",
    "df['review/time'] = pd.to_datetime(df['review/time'], errors='coerce')\n",
    "\n",
    "# Check the changes\n",
    "df.info()"
   ]
  },
  {
   "cell_type": "code",
   "execution_count": 8,
   "metadata": {},
   "outputs": [],
   "source": [
    "# Rename columns for Hopsworks compatibility\n",
    "df.rename(columns={'beer/beerId': 'beer/beerid', 'beer/brewerId': 'beer/brewerid', 'beer/ABV': 'beer/abv', 'review/profileName': 'review/profilename'}, inplace=True)"
   ]
  },
  {
   "cell_type": "code",
   "execution_count": 9,
   "metadata": {},
   "outputs": [],
   "source": [
    "# Replace / with _ in column names for Hopsworks compatibility\n",
    "new_columns = {col: col.replace('/', '_').replace('beer/', 'beer_') for col in df.columns}\n",
    "df.rename(columns=new_columns, inplace=True)"
   ]
  },
  {
   "cell_type": "markdown",
   "metadata": {},
   "source": [
    "## <span style=\"color:#ff5f27;\"> 🪄 Creating Feature Groups </span>"
   ]
  },
  {
   "cell_type": "code",
   "execution_count": 10,
   "metadata": {},
   "outputs": [
    {
     "name": "stderr",
     "output_type": "stream",
     "text": [
      "/Users/lassehylleberg/anaconda3/envs/MLOPS/lib/python3.12/site-packages/tqdm/auto.py:21: TqdmWarning: IProgress not found. Please update jupyter and ipywidgets. See https://ipywidgets.readthedocs.io/en/stable/user_install.html\n",
      "  from .autonotebook import tqdm as notebook_tqdm\n"
     ]
    },
    {
     "name": "stdout",
     "output_type": "stream",
     "text": [
      "Connected. Call `.close()` to terminate connection gracefully.\n",
      "\n",
      "Logged in to project, explore it here https://c.app.hopsworks.ai:443/p/550037\n",
      "2024-05-02 11:32:38,755 WARNING: using legacy validation callback\n"
     ]
    },
    {
     "name": "stderr",
     "output_type": "stream",
     "text": [
      "DeprecationWarning: The 'warn' method is deprecated, use 'warning' instead\n"
     ]
    },
    {
     "name": "stdout",
     "output_type": "stream",
     "text": [
      "Connected. Call `.close()` to terminate connection gracefully.\n"
     ]
    }
   ],
   "source": [
    "import hopsworks as hs\n",
    "project = hs.login()\n",
    "fs = project.get_feature_store()"
   ]
  },
  {
   "cell_type": "code",
   "execution_count": 11,
   "metadata": {},
   "outputs": [
    {
     "name": "stdout",
     "output_type": "stream",
     "text": [
      "Index(['beer_name', 'beer_beerid', 'beer_brewerid', 'beer_abv', 'beer_style',\n",
      "       'review_appearance', 'review_aroma', 'review_palate', 'review_taste',\n",
      "       'review_overall', 'review_time', 'review_profilename', 'review_text'],\n",
      "      dtype='object')\n"
     ]
    }
   ],
   "source": [
    "print(df.columns)"
   ]
  },
  {
   "cell_type": "code",
   "execution_count": 12,
   "metadata": {},
   "outputs": [
    {
     "name": "stdout",
     "output_type": "stream",
     "text": [
      "<class 'pandas.core.frame.DataFrame'>\n",
      "RangeIndex: 2924163 entries, 0 to 2924162\n",
      "Data columns (total 13 columns):\n",
      " #   Column              Dtype         \n",
      "---  ------              -----         \n",
      " 0   beer_name           object        \n",
      " 1   beer_beerid         float64       \n",
      " 2   beer_brewerid       int16         \n",
      " 3   beer_abv            float64       \n",
      " 4   beer_style          object        \n",
      " 5   review_appearance   float64       \n",
      " 6   review_aroma        float64       \n",
      " 7   review_palate       float64       \n",
      " 8   review_taste        float64       \n",
      " 9   review_overall      float64       \n",
      " 10  review_time         datetime64[ns]\n",
      " 11  review_profilename  object        \n",
      " 12  review_text         object        \n",
      "dtypes: datetime64[ns](1), float64(7), int16(1), object(4)\n",
      "memory usage: 273.3+ MB\n"
     ]
    }
   ],
   "source": [
    "df.info()"
   ]
  },
  {
   "cell_type": "code",
   "execution_count": null,
   "metadata": {},
   "outputs": [],
   "source": []
  }
 ],
 "metadata": {
  "kernelspec": {
   "display_name": "MLOPS",
   "language": "python",
   "name": "python3"
  },
  "language_info": {
   "codemirror_mode": {
    "name": "ipython",
    "version": 3
   },
   "file_extension": ".py",
   "mimetype": "text/x-python",
   "name": "python",
   "nbconvert_exporter": "python",
   "pygments_lexer": "ipython3",
   "version": "3.12.2"
  }
 },
 "nbformat": 4,
 "nbformat_minor": 2
}
