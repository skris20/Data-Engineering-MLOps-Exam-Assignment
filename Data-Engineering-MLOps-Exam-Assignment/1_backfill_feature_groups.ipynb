{
 "cells": [
  {
   "cell_type": "markdown",
   "metadata": {},
   "source": [
    "## <span style=\"color:#ff5f27;\"> 💽 Loading the Data </span>"
   ]
  },
  {
   "cell_type": "code",
   "execution_count": 1,
   "metadata": {},
   "outputs": [],
   "source": [
    "!pip install -U hopsworks --quiet"
   ]
  },
  {
   "cell_type": "code",
   "execution_count": 2,
   "metadata": {},
   "outputs": [],
   "source": [
    "!pip install kaggle --quiet"
   ]
  },
  {
   "cell_type": "code",
   "execution_count": 8,
   "metadata": {},
   "outputs": [],
   "source": [
    "import numpy as np\n",
    "import pandas as pd\n",
    "import gdown"
   ]
  },
  {
   "cell_type": "code",
   "execution_count": 9,
   "metadata": {},
   "outputs": [
    {
     "name": "stderr",
     "output_type": "stream",
     "text": [
      "Downloading...\n",
      "From (original): https://drive.google.com/uc?id=1LeoFhTNUZiZ9sbn31jZA6DGN3p36Dsvk\n",
      "From (redirected): https://drive.google.com/uc?id=1LeoFhTNUZiZ9sbn31jZA6DGN3p36Dsvk&confirm=t&uuid=3b1d598e-9dcf-4d46-af46-0e5b292ef319\n",
      "To: /Users/lassehylleberg/Desktop/Data-Engineering-MLOps-Exam-Assignment/ratebeer.txt\n",
      "100%|██████████| 1.74G/1.74G [01:18<00:00, 22.1MB/s]\n"
     ]
    },
    {
     "data": {
      "text/plain": [
       "'ratebeer.txt'"
      ]
     },
     "execution_count": 9,
     "metadata": {},
     "output_type": "execute_result"
    }
   ],
   "source": [
    "# URL from Google Drive shareable link\n",
    "url = 'https://drive.google.com/uc?id=1LeoFhTNUZiZ9sbn31jZA6DGN3p36Dsvk'\n",
    "\n",
    "# Filename\n",
    "output = 'ratebeer.txt'\n",
    "\n",
    "# Download the file from the URL\n",
    "gdown.download(url, output, quiet=False)"
   ]
  },
  {
   "cell_type": "code",
   "execution_count": 10,
   "metadata": {},
   "outputs": [],
   "source": [
    "# Define the file path to the downloaded file\n",
    "file_path = 'ratebeer.txt'\n",
    "\n",
    "# Define columns as you have mentioned previously\n",
    "columns = ['beer/name', 'beer/beerId', 'beer/brewerId', 'beer/ABV', 'beer/style',\n",
    "           'review/appearance', 'review/aroma', 'review/palate', 'review/taste',\n",
    "           'review/overall', 'review/time', 'review/profileName', 'review/text']\n",
    "data = {col: [] for col in columns}\n",
    "\n",
    "# Read the file\n",
    "with open(file_path, \"r\", encoding=\"ISO-8859-1\") as file:\n",
    "    current_review = {}\n",
    "    for line in file:\n",
    "        line = line.strip()\n",
    "        if line:\n",
    "            try:\n",
    "                key, value = line.split(\": \", 1)\n",
    "                current_review[key] = value\n",
    "            except ValueError:\n",
    "                continue\n",
    "        else:\n",
    "            if current_review:\n",
    "                for col in columns:\n",
    "                    data[col].append(current_review.get(col, np.nan))\n",
    "                current_review = {}\n",
    "\n",
    "# Check for any remaining entries to add\n",
    "if current_review:\n",
    "    for col in columns:\n",
    "        data[col].append(current_review.get(col, np.nan))\n",
    "\n",
    "# Create a DataFrame from the data\n",
    "df = pd.DataFrame(data)"
   ]
  },
  {
   "cell_type": "code",
   "execution_count": 11,
   "metadata": {},
   "outputs": [
    {
     "name": "stdout",
     "output_type": "stream",
     "text": [
      "<class 'pandas.core.frame.DataFrame'>\n",
      "RangeIndex: 2924163 entries, 0 to 2924162\n",
      "Data columns (total 13 columns):\n",
      " #   Column              Dtype \n",
      "---  ------              ----- \n",
      " 0   beer/name           object\n",
      " 1   beer/beerId         object\n",
      " 2   beer/brewerId       object\n",
      " 3   beer/ABV            object\n",
      " 4   beer/style          object\n",
      " 5   review/appearance   object\n",
      " 6   review/aroma        object\n",
      " 7   review/palate       object\n",
      " 8   review/taste        object\n",
      " 9   review/overall      object\n",
      " 10  review/time         object\n",
      " 11  review/profileName  object\n",
      " 12  review/text         object\n",
      "dtypes: object(13)\n",
      "memory usage: 290.0+ MB\n"
     ]
    }
   ],
   "source": [
    "df.info()"
   ]
  },
  {
   "cell_type": "code",
   "execution_count": 12,
   "metadata": {},
   "outputs": [
    {
     "name": "stdout",
     "output_type": "stream",
     "text": [
      "<class 'pandas.core.frame.DataFrame'>\n",
      "RangeIndex: 2924163 entries, 0 to 2924162\n",
      "Data columns (total 13 columns):\n",
      " #   Column              Dtype         \n",
      "---  ------              -----         \n",
      " 0   beer/name           object        \n",
      " 1   beer/beerId         float64       \n",
      " 2   beer/brewerId       int16         \n",
      " 3   beer/ABV            float64       \n",
      " 4   beer/style          object        \n",
      " 5   review/appearance   float64       \n",
      " 6   review/aroma        float64       \n",
      " 7   review/palate       float64       \n",
      " 8   review/taste        float64       \n",
      " 9   review/overall      float64       \n",
      " 10  review/time         datetime64[ns]\n",
      " 11  review/profileName  object        \n",
      " 12  review/text         object        \n",
      "dtypes: datetime64[ns](1), float64(7), int16(1), object(4)\n",
      "memory usage: 273.3+ MB\n"
     ]
    }
   ],
   "source": [
    "# Convert numeric columns to float\n",
    "numeric_cols = ['beer/ABV', 'review/appearance', 'review/aroma', 'review/palate', 'review/taste', 'review/overall']\n",
    "df[numeric_cols] = df[numeric_cols].apply(pd.to_numeric, errors='coerce')\n",
    "\n",
    "# Convert ID columns to integers, coerce errors which will convert non-convertible values to NaN\n",
    "id_cols = ['beer/beerId', 'beer/brewerId']\n",
    "df[id_cols] = df[id_cols].apply(pd.to_numeric, errors='coerce', downcast='integer')\n",
    "\n",
    "# Convert review time to datetime\n",
    "df['review/time'] = pd.to_datetime(df['review/time'], errors='coerce')\n",
    "\n",
    "# Check the changes\n",
    "df.info()"
   ]
  },
  {
   "cell_type": "markdown",
   "metadata": {},
   "source": [
    "## <span style=\"color:#ff5f27;\"> 🛠️ Feature Engineering </span>"
   ]
  },
  {
   "cell_type": "code",
   "execution_count": 22,
   "metadata": {},
   "outputs": [
    {
     "name": "stderr",
     "output_type": "stream",
     "text": [
      "/opt/anaconda3/envs/MLOps/lib/python3.11/site-packages/tqdm/auto.py:21: TqdmWarning: IProgress not found. Please update jupyter and ipywidgets. See https://ipywidgets.readthedocs.io/en/stable/user_install.html\n",
      "  from .autonotebook import tqdm as notebook_tqdm\n"
     ]
    }
   ],
   "source": [
    "import hopsworks as hs"
   ]
  },
  {
   "cell_type": "code",
   "execution_count": 23,
   "metadata": {},
   "outputs": [
    {
     "name": "stdout",
     "output_type": "stream",
     "text": [
      "Connected. Call `.close()` to terminate connection gracefully.\n",
      "\n",
      "Logged in to project, explore it here https://c.app.hopsworks.ai:443/p/550038\n",
      "Connected. Call `.close()` to terminate connection gracefully.\n"
     ]
    }
   ],
   "source": [
    "project = hs.login()\n",
    "fs = project.get_feature_store()"
   ]
  },
  {
   "cell_type": "code",
   "execution_count": 39,
   "metadata": {},
   "outputs": [
    {
     "name": "stdout",
     "output_type": "stream",
     "text": [
      "Index(['beer/name', 'beer/beerId', 'beer/brewerId', 'beer/ABV', 'beer/style',\n",
      "       'review/appearance', 'review/aroma', 'review/palate', 'review/taste',\n",
      "       'review/overall', 'review/time', 'review/profileName', 'review/text'],\n",
      "      dtype='object')\n"
     ]
    }
   ],
   "source": [
    "print(df.columns)"
   ]
  },
  {
   "cell_type": "code",
   "execution_count": 54,
   "metadata": {},
   "outputs": [
    {
     "ename": "NameError",
     "evalue": "name 'prepare_features' is not defined",
     "output_type": "error",
     "traceback": [
      "\u001b[0;31m---------------------------------------------------------------------------\u001b[0m",
      "\u001b[0;31mNameError\u001b[0m                                 Traceback (most recent call last)",
      "Cell \u001b[0;32mIn[54], line 7\u001b[0m\n\u001b[1;32m      3\u001b[0m warnings\u001b[38;5;241m.\u001b[39mfilterwarnings(\u001b[38;5;124m'\u001b[39m\u001b[38;5;124mignore\u001b[39m\u001b[38;5;124m'\u001b[39m)\n\u001b[1;32m      5\u001b[0m \u001b[38;5;66;03m# Assume df is your DataFrame already loaded with the appropriate data\u001b[39;00m\n\u001b[1;32m      6\u001b[0m \u001b[38;5;66;03m# Use the 'prepare_features' function to apply multiple feature preparations\u001b[39;00m\n\u001b[0;32m----> 7\u001b[0m df \u001b[38;5;241m=\u001b[39m \u001b[43mprepare_features\u001b[49m(df)\n\u001b[1;32m      9\u001b[0m \u001b[38;5;66;03m# Calculate average ratings across specified columns\u001b[39;00m\n\u001b[1;32m     10\u001b[0m rating_columns \u001b[38;5;241m=\u001b[39m [\u001b[38;5;124m'\u001b[39m\u001b[38;5;124mreview/appearance\u001b[39m\u001b[38;5;124m'\u001b[39m, \u001b[38;5;124m'\u001b[39m\u001b[38;5;124mreview/aroma\u001b[39m\u001b[38;5;124m'\u001b[39m, \u001b[38;5;124m'\u001b[39m\u001b[38;5;124mreview/palate\u001b[39m\u001b[38;5;124m'\u001b[39m, \u001b[38;5;124m'\u001b[39m\u001b[38;5;124mreview/taste\u001b[39m\u001b[38;5;124m'\u001b[39m]\n",
      "\u001b[0;31mNameError\u001b[0m: name 'prepare_features' is not defined"
     ]
    }
   ],
   "source": [
    "import warnings\n",
    "from sml import beer_features\n",
    "warnings.filterwarnings('ignore')\n",
    "\n",
    "# Assume df is your DataFrame already loaded with the appropriate data\n",
    "# Use the 'prepare_features' function to apply multiple feature preparations\n",
    "df = prepare_features(df)\n",
    "\n",
    "# Calculate average ratings across specified columns\n",
    "rating_columns = ['review/appearance', 'review/aroma', 'review/palate', 'review/taste']\n",
    "df = average_ratings(df, rating_columns)\n",
    "\n",
    "# Count the number of reviews for each beer\n",
    "review_counts = review_count(df, 'beer/beerId')\n",
    "\n",
    "# Merge the review counts back to the main DataFrame if needed\n",
    "df = df.merge(review_counts, on='beer/beerId', how='left')\n",
    "\n",
    "# Display the modified DataFrame\n",
    "print(df.head())"
   ]
  }
 ],
 "metadata": {
  "kernelspec": {
   "display_name": "MLOPS",
   "language": "python",
   "name": "python3"
  },
  "language_info": {
   "codemirror_mode": {
    "name": "ipython",
    "version": 3
   },
   "file_extension": ".py",
   "mimetype": "text/x-python",
   "name": "python",
   "nbconvert_exporter": "python",
   "pygments_lexer": "ipython3",
   "version": "3.12.2"
  }
 },
 "nbformat": 4,
 "nbformat_minor": 2
}
