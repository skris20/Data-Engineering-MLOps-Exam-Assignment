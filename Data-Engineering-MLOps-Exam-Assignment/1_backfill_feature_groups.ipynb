{
 "cells": [
  {
   "cell_type": "markdown",
   "metadata": {},
   "source": [
    "## <span style=\"color:#ff5f27;\"> 💽 Loading the Data </span>"
   ]
  },
  {
   "cell_type": "code",
   "execution_count": 1,
   "metadata": {},
   "outputs": [],
   "source": [
    "#!pip install -U hopsworks --quiet"
   ]
  },
  {
   "cell_type": "code",
   "execution_count": 2,
   "metadata": {},
   "outputs": [],
   "source": [
    "#!pip install kaggle --quiet"
   ]
  },
  {
   "cell_type": "code",
   "execution_count": 1,
   "metadata": {},
   "outputs": [],
   "source": [
    "import numpy as np\n",
    "import pandas as pd\n",
    "import gdown"
   ]
  },
  {
   "cell_type": "code",
   "execution_count": 2,
   "metadata": {},
   "outputs": [
    {
     "name": "stdout",
     "output_type": "stream",
     "text": [
      "Obtaining file:///Users/lassehylleberg/Desktop/Data-Engineering-MLOps-Exam-Assignment/Data-Engineering-MLOps-Exam-Assignment\n",
      "  Preparing metadata (setup.py) ... \u001b[?25ldone\n",
      "\u001b[?25hInstalling collected packages: sml\n",
      "  Attempting uninstall: sml\n",
      "    Found existing installation: sml 0.1\n",
      "    Uninstalling sml-0.1:\n",
      "      Successfully uninstalled sml-0.1\n",
      "  Running setup.py develop for sml\n",
      "Successfully installed sml-0.1\n"
     ]
    }
   ],
   "source": [
    "# install the 'sml' python module from this project in editable mode\n",
    "!cd .. & pip install -e ."
   ]
  },
  {
   "cell_type": "code",
   "execution_count": 3,
   "metadata": {},
   "outputs": [
    {
     "name": "stderr",
     "output_type": "stream",
     "text": [
      "Downloading...\n",
      "From (original): https://drive.google.com/uc?id=1LeoFhTNUZiZ9sbn31jZA6DGN3p36Dsvk\n",
      "From (redirected): https://drive.google.com/uc?id=1LeoFhTNUZiZ9sbn31jZA6DGN3p36Dsvk&confirm=t&uuid=33e95e00-e113-499c-b8f5-97551870f7f5\n",
      "To: /Users/lassehylleberg/Desktop/Data-Engineering-MLOps-Exam-Assignment/Data-Engineering-MLOps-Exam-Assignment/ratebeer.txt\n",
      "100%|██████████| 1.74G/1.74G [00:28<00:00, 61.4MB/s]\n"
     ]
    }
   ],
   "source": [
    "# URL from Google Drive shareable link\n",
    "url = 'https://drive.google.com/uc?id=1LeoFhTNUZiZ9sbn31jZA6DGN3p36Dsvk'\n",
    "\n",
    "# Filename\n",
    "output = 'ratebeer.txt'\n",
    "\n",
    "# Download the file from the URL\n",
    "gdown.download(url, output, quiet=False)\n",
    "\n",
    "# Define the file path to the downloaded file\n",
    "file_path = 'ratebeer.txt'"
   ]
  },
  {
   "cell_type": "code",
   "execution_count": 4,
   "metadata": {},
   "outputs": [],
   "source": [
    "# Define columns\n",
    "columns = ['beer/name', 'beer/beerId', 'beer/brewerId', 'beer/ABV', 'beer/style',\n",
    "           'review/appearance', 'review/aroma', 'review/palate', 'review/taste',\n",
    "           'review/overall', 'review/time', 'review/profileName', 'review/text']\n",
    "data = {col: [] for col in columns}\n",
    "\n",
    "# Read the file\n",
    "with open(file_path, \"r\", encoding=\"ISO-8859-1\") as file:\n",
    "    current_review = {}\n",
    "    for line in file:\n",
    "        line = line.strip()\n",
    "        if line:\n",
    "            try:\n",
    "                key, value = line.split(\": \", 1)\n",
    "                current_review[key] = value\n",
    "            except ValueError:\n",
    "                continue\n",
    "        else:\n",
    "            if current_review:\n",
    "                for col in columns:\n",
    "                    data[col].append(current_review.get(col, np.nan))\n",
    "                current_review = {}\n",
    "\n",
    "# Check for any remaining entries to add\n",
    "if current_review:\n",
    "    for col in columns:\n",
    "        data[col].append(current_review.get(col, np.nan))\n",
    "\n",
    "# Create a DataFrame from the data\n",
    "df = pd.DataFrame(data)"
   ]
  },
  {
   "cell_type": "code",
   "execution_count": 5,
   "metadata": {},
   "outputs": [
    {
     "data": {
      "text/html": [
       "<div>\n",
       "<style scoped>\n",
       "    .dataframe tbody tr th:only-of-type {\n",
       "        vertical-align: middle;\n",
       "    }\n",
       "\n",
       "    .dataframe tbody tr th {\n",
       "        vertical-align: top;\n",
       "    }\n",
       "\n",
       "    .dataframe thead th {\n",
       "        text-align: right;\n",
       "    }\n",
       "</style>\n",
       "<table border=\"1\" class=\"dataframe\">\n",
       "  <thead>\n",
       "    <tr style=\"text-align: right;\">\n",
       "      <th></th>\n",
       "      <th>beer/name</th>\n",
       "      <th>beer/beerId</th>\n",
       "      <th>beer/brewerId</th>\n",
       "      <th>beer/ABV</th>\n",
       "      <th>beer/style</th>\n",
       "      <th>review/appearance</th>\n",
       "      <th>review/aroma</th>\n",
       "      <th>review/palate</th>\n",
       "      <th>review/taste</th>\n",
       "      <th>review/overall</th>\n",
       "      <th>review/time</th>\n",
       "      <th>review/profileName</th>\n",
       "      <th>review/text</th>\n",
       "    </tr>\n",
       "  </thead>\n",
       "  <tbody>\n",
       "    <tr>\n",
       "      <th>0</th>\n",
       "      <td>John Harvards Simcoe IPA</td>\n",
       "      <td>63836</td>\n",
       "      <td>8481</td>\n",
       "      <td>5.4</td>\n",
       "      <td>India Pale Ale &amp;#40;IPA&amp;#41;</td>\n",
       "      <td>4/5</td>\n",
       "      <td>6/10</td>\n",
       "      <td>3/5</td>\n",
       "      <td>6/10</td>\n",
       "      <td>13/20</td>\n",
       "      <td>1157587200</td>\n",
       "      <td>hopdog</td>\n",
       "      <td>On tap at the Springfield, PA location. Poured...</td>\n",
       "    </tr>\n",
       "    <tr>\n",
       "      <th>1</th>\n",
       "      <td>John Harvards Simcoe IPA</td>\n",
       "      <td>63836</td>\n",
       "      <td>8481</td>\n",
       "      <td>5.4</td>\n",
       "      <td>India Pale Ale &amp;#40;IPA&amp;#41;</td>\n",
       "      <td>4/5</td>\n",
       "      <td>6/10</td>\n",
       "      <td>4/5</td>\n",
       "      <td>7/10</td>\n",
       "      <td>13/20</td>\n",
       "      <td>1157241600</td>\n",
       "      <td>TomDecapolis</td>\n",
       "      <td>On tap at the John Harvards in Springfield PA....</td>\n",
       "    </tr>\n",
       "    <tr>\n",
       "      <th>2</th>\n",
       "      <td>John Harvards Cristal Pilsner</td>\n",
       "      <td>71716</td>\n",
       "      <td>8481</td>\n",
       "      <td>5</td>\n",
       "      <td>Bohemian Pilsener</td>\n",
       "      <td>4/5</td>\n",
       "      <td>5/10</td>\n",
       "      <td>3/5</td>\n",
       "      <td>6/10</td>\n",
       "      <td>14/20</td>\n",
       "      <td>958694400</td>\n",
       "      <td>PhillyBeer2112</td>\n",
       "      <td>UPDATED: FEB 19, 2003 Springfield, PA. I've ne...</td>\n",
       "    </tr>\n",
       "    <tr>\n",
       "      <th>3</th>\n",
       "      <td>John Harvards Fancy Lawnmower Beer</td>\n",
       "      <td>64125</td>\n",
       "      <td>8481</td>\n",
       "      <td>5.4</td>\n",
       "      <td>Kölsch</td>\n",
       "      <td>2/5</td>\n",
       "      <td>4/10</td>\n",
       "      <td>2/5</td>\n",
       "      <td>4/10</td>\n",
       "      <td>8/20</td>\n",
       "      <td>1157587200</td>\n",
       "      <td>TomDecapolis</td>\n",
       "      <td>On tap the Springfield PA location billed as t...</td>\n",
       "    </tr>\n",
       "    <tr>\n",
       "      <th>4</th>\n",
       "      <td>John Harvards Fancy Lawnmower Beer</td>\n",
       "      <td>64125</td>\n",
       "      <td>8481</td>\n",
       "      <td>5.4</td>\n",
       "      <td>Kölsch</td>\n",
       "      <td>2/5</td>\n",
       "      <td>4/10</td>\n",
       "      <td>2/5</td>\n",
       "      <td>4/10</td>\n",
       "      <td>8/20</td>\n",
       "      <td>1157587200</td>\n",
       "      <td>hopdog</td>\n",
       "      <td>On tap at the Springfield, PA location. Poured...</td>\n",
       "    </tr>\n",
       "  </tbody>\n",
       "</table>\n",
       "</div>"
      ],
      "text/plain": [
       "                            beer/name beer/beerId beer/brewerId beer/ABV  \\\n",
       "0            John Harvards Simcoe IPA       63836          8481      5.4   \n",
       "1            John Harvards Simcoe IPA       63836          8481      5.4   \n",
       "2       John Harvards Cristal Pilsner       71716          8481        5   \n",
       "3  John Harvards Fancy Lawnmower Beer       64125          8481      5.4   \n",
       "4  John Harvards Fancy Lawnmower Beer       64125          8481      5.4   \n",
       "\n",
       "                     beer/style review/appearance review/aroma review/palate  \\\n",
       "0  India Pale Ale &#40;IPA&#41;               4/5         6/10           3/5   \n",
       "1  India Pale Ale &#40;IPA&#41;               4/5         6/10           4/5   \n",
       "2             Bohemian Pilsener               4/5         5/10           3/5   \n",
       "3                        Kölsch               2/5         4/10           2/5   \n",
       "4                        Kölsch               2/5         4/10           2/5   \n",
       "\n",
       "  review/taste review/overall review/time review/profileName  \\\n",
       "0         6/10          13/20  1157587200             hopdog   \n",
       "1         7/10          13/20  1157241600       TomDecapolis   \n",
       "2         6/10          14/20   958694400     PhillyBeer2112   \n",
       "3         4/10           8/20  1157587200       TomDecapolis   \n",
       "4         4/10           8/20  1157587200             hopdog   \n",
       "\n",
       "                                         review/text  \n",
       "0  On tap at the Springfield, PA location. Poured...  \n",
       "1  On tap at the John Harvards in Springfield PA....  \n",
       "2  UPDATED: FEB 19, 2003 Springfield, PA. I've ne...  \n",
       "3  On tap the Springfield PA location billed as t...  \n",
       "4  On tap at the Springfield, PA location. Poured...  "
      ]
     },
     "execution_count": 5,
     "metadata": {},
     "output_type": "execute_result"
    }
   ],
   "source": [
    "df.head()"
   ]
  },
  {
   "cell_type": "code",
   "execution_count": 10,
   "metadata": {},
   "outputs": [],
   "source": [
    "# Rename columns for Hopsworks compatibility\n",
    "df.rename(columns={'beer/beerId': 'beer/beerid', 'beer/brewerId': 'beer/brewerid', 'beer/ABV': 'beer/abv', 'review/profileName': 'review/profilename'}, inplace=True)"
   ]
  },
  {
   "cell_type": "code",
   "execution_count": 11,
   "metadata": {},
   "outputs": [],
   "source": [
    "# Replace / with _ in column names for Hopsworks compatibility\n",
    "new_columns = {col: col.replace('/', '_').replace('beer/', 'beer_') for col in df.columns}\n",
    "df.rename(columns=new_columns, inplace=True)"
   ]
  },
  {
   "cell_type": "markdown",
   "metadata": {},
   "source": [
    "## <span style=\"color:#ff5f27;\"> 🛠️ Feature Engineering </span>"
   ]
  },
  {
   "cell_type": "code",
   "execution_count": 8,
   "metadata": {},
   "outputs": [
    {
     "name": "stdout",
     "output_type": "stream",
     "text": [
      "<class 'pandas.core.frame.DataFrame'>\n",
      "RangeIndex: 2924163 entries, 0 to 2924162\n",
      "Data columns (total 13 columns):\n",
      " #   Column              Dtype         \n",
      "---  ------              -----         \n",
      " 0   beer_name           object        \n",
      " 1   beer_beerid         float64       \n",
      " 2   beer_brewerid       int16         \n",
      " 3   beer_abv            float64       \n",
      " 4   beer_style          object        \n",
      " 5   review_appearance   float64       \n",
      " 6   review_aroma        float64       \n",
      " 7   review_palate       float64       \n",
      " 8   review_taste        float64       \n",
      " 9   review_overall      float64       \n",
      " 10  review_time         datetime64[ns]\n",
      " 11  review_profilename  object        \n",
      " 12  review_text         object        \n",
      "dtypes: datetime64[ns](1), float64(7), int16(1), object(4)\n",
      "memory usage: 273.3+ MB\n"
     ]
    }
   ],
   "source": [
    "# Function to convert fraction strings to float\n",
    "def convert_fraction_to_float(x):\n",
    "    try:\n",
    "        num, denom = x.split('/')\n",
    "        return float(num) / float(denom)\n",
    "    except:\n",
    "        return np.nan\n",
    "\n",
    "# Columns that contain fraction ratings\n",
    "rating_cols = ['review_appearance', 'review_aroma', 'review_palate', 'review_taste', 'review_overall']\n",
    "df[rating_cols] = df[rating_cols].applymap(convert_fraction_to_float)\n",
    "\n",
    "# Convert numeric columns to float\n",
    "numeric_cols = ['beer_abv', 'review_appearance', 'review_aroma', 'review_palate', 'review_taste', 'review_overall']\n",
    "df[numeric_cols] = df[numeric_cols].apply(pd.to_numeric, errors='coerce')\n",
    "\n",
    "# Convert ID columns to integers, use pd.to_numeric for coercion\n",
    "id_cols = ['beer_beerid', 'beer_brewerid']\n",
    "df[id_cols] = df[id_cols].apply(pd.to_numeric, errors='coerce', downcast='integer')\n",
    "\n",
    "# Convert review time from Unix time to datetime\n",
    "df['review_time'] = pd.to_datetime(df['review_time'], unit='s', errors='coerce')\n",
    "\n",
    "# Check the changes to verify that the types are as expected\n",
    "df.info()"
   ]
  },
  {
   "cell_type": "code",
   "execution_count": 9,
   "metadata": {},
   "outputs": [
    {
     "data": {
      "text/html": [
       "<div>\n",
       "<style scoped>\n",
       "    .dataframe tbody tr th:only-of-type {\n",
       "        vertical-align: middle;\n",
       "    }\n",
       "\n",
       "    .dataframe tbody tr th {\n",
       "        vertical-align: top;\n",
       "    }\n",
       "\n",
       "    .dataframe thead th {\n",
       "        text-align: right;\n",
       "    }\n",
       "</style>\n",
       "<table border=\"1\" class=\"dataframe\">\n",
       "  <thead>\n",
       "    <tr style=\"text-align: right;\">\n",
       "      <th></th>\n",
       "      <th>beer_name</th>\n",
       "      <th>beer_beerid</th>\n",
       "      <th>beer_brewerid</th>\n",
       "      <th>beer_abv</th>\n",
       "      <th>beer_style</th>\n",
       "      <th>review_appearance</th>\n",
       "      <th>review_aroma</th>\n",
       "      <th>review_palate</th>\n",
       "      <th>review_taste</th>\n",
       "      <th>review_overall</th>\n",
       "      <th>review_time</th>\n",
       "      <th>review_profilename</th>\n",
       "      <th>review_text</th>\n",
       "    </tr>\n",
       "  </thead>\n",
       "  <tbody>\n",
       "    <tr>\n",
       "      <th>0</th>\n",
       "      <td>John Harvards Simcoe IPA</td>\n",
       "      <td>63836.0</td>\n",
       "      <td>8481</td>\n",
       "      <td>5.4</td>\n",
       "      <td>India Pale Ale &amp;#40;IPA&amp;#41;</td>\n",
       "      <td>0.8</td>\n",
       "      <td>0.6</td>\n",
       "      <td>0.6</td>\n",
       "      <td>0.6</td>\n",
       "      <td>0.65</td>\n",
       "      <td>2006-09-07</td>\n",
       "      <td>hopdog</td>\n",
       "      <td>On tap at the Springfield, PA location. Poured...</td>\n",
       "    </tr>\n",
       "    <tr>\n",
       "      <th>1</th>\n",
       "      <td>John Harvards Simcoe IPA</td>\n",
       "      <td>63836.0</td>\n",
       "      <td>8481</td>\n",
       "      <td>5.4</td>\n",
       "      <td>India Pale Ale &amp;#40;IPA&amp;#41;</td>\n",
       "      <td>0.8</td>\n",
       "      <td>0.6</td>\n",
       "      <td>0.8</td>\n",
       "      <td>0.7</td>\n",
       "      <td>0.65</td>\n",
       "      <td>2006-09-03</td>\n",
       "      <td>TomDecapolis</td>\n",
       "      <td>On tap at the John Harvards in Springfield PA....</td>\n",
       "    </tr>\n",
       "    <tr>\n",
       "      <th>2</th>\n",
       "      <td>John Harvards Cristal Pilsner</td>\n",
       "      <td>71716.0</td>\n",
       "      <td>8481</td>\n",
       "      <td>5.0</td>\n",
       "      <td>Bohemian Pilsener</td>\n",
       "      <td>0.8</td>\n",
       "      <td>0.5</td>\n",
       "      <td>0.6</td>\n",
       "      <td>0.6</td>\n",
       "      <td>0.70</td>\n",
       "      <td>2000-05-19</td>\n",
       "      <td>PhillyBeer2112</td>\n",
       "      <td>UPDATED: FEB 19, 2003 Springfield, PA. I've ne...</td>\n",
       "    </tr>\n",
       "    <tr>\n",
       "      <th>3</th>\n",
       "      <td>John Harvards Fancy Lawnmower Beer</td>\n",
       "      <td>64125.0</td>\n",
       "      <td>8481</td>\n",
       "      <td>5.4</td>\n",
       "      <td>Kölsch</td>\n",
       "      <td>0.4</td>\n",
       "      <td>0.4</td>\n",
       "      <td>0.4</td>\n",
       "      <td>0.4</td>\n",
       "      <td>0.40</td>\n",
       "      <td>2006-09-07</td>\n",
       "      <td>TomDecapolis</td>\n",
       "      <td>On tap the Springfield PA location billed as t...</td>\n",
       "    </tr>\n",
       "    <tr>\n",
       "      <th>4</th>\n",
       "      <td>John Harvards Fancy Lawnmower Beer</td>\n",
       "      <td>64125.0</td>\n",
       "      <td>8481</td>\n",
       "      <td>5.4</td>\n",
       "      <td>Kölsch</td>\n",
       "      <td>0.4</td>\n",
       "      <td>0.4</td>\n",
       "      <td>0.4</td>\n",
       "      <td>0.4</td>\n",
       "      <td>0.40</td>\n",
       "      <td>2006-09-07</td>\n",
       "      <td>hopdog</td>\n",
       "      <td>On tap at the Springfield, PA location. Poured...</td>\n",
       "    </tr>\n",
       "  </tbody>\n",
       "</table>\n",
       "</div>"
      ],
      "text/plain": [
       "                            beer_name  beer_beerid  beer_brewerid  beer_abv  \\\n",
       "0            John Harvards Simcoe IPA      63836.0           8481       5.4   \n",
       "1            John Harvards Simcoe IPA      63836.0           8481       5.4   \n",
       "2       John Harvards Cristal Pilsner      71716.0           8481       5.0   \n",
       "3  John Harvards Fancy Lawnmower Beer      64125.0           8481       5.4   \n",
       "4  John Harvards Fancy Lawnmower Beer      64125.0           8481       5.4   \n",
       "\n",
       "                     beer_style  review_appearance  review_aroma  \\\n",
       "0  India Pale Ale &#40;IPA&#41;                0.8           0.6   \n",
       "1  India Pale Ale &#40;IPA&#41;                0.8           0.6   \n",
       "2             Bohemian Pilsener                0.8           0.5   \n",
       "3                        Kölsch                0.4           0.4   \n",
       "4                        Kölsch                0.4           0.4   \n",
       "\n",
       "   review_palate  review_taste  review_overall review_time review_profilename  \\\n",
       "0            0.6           0.6            0.65  2006-09-07             hopdog   \n",
       "1            0.8           0.7            0.65  2006-09-03       TomDecapolis   \n",
       "2            0.6           0.6            0.70  2000-05-19     PhillyBeer2112   \n",
       "3            0.4           0.4            0.40  2006-09-07       TomDecapolis   \n",
       "4            0.4           0.4            0.40  2006-09-07             hopdog   \n",
       "\n",
       "                                         review_text  \n",
       "0  On tap at the Springfield, PA location. Poured...  \n",
       "1  On tap at the John Harvards in Springfield PA....  \n",
       "2  UPDATED: FEB 19, 2003 Springfield, PA. I've ne...  \n",
       "3  On tap the Springfield PA location billed as t...  \n",
       "4  On tap at the Springfield, PA location. Poured...  "
      ]
     },
     "execution_count": 9,
     "metadata": {},
     "output_type": "execute_result"
    }
   ],
   "source": [
    "df.head()"
   ]
  },
  {
   "cell_type": "markdown",
   "metadata": {},
   "source": [
    "## <span style=\"color:#ff5f27;\"> 🪄 Creating Feature Groups in Hopsworks </span>"
   ]
  },
  {
   "cell_type": "code",
   "execution_count": 8,
   "metadata": {},
   "outputs": [
    {
     "name": "stderr",
     "output_type": "stream",
     "text": [
      "/Users/lassehylleberg/anaconda3/envs/MLOPS/lib/python3.12/site-packages/tqdm/auto.py:21: TqdmWarning: IProgress not found. Please update jupyter and ipywidgets. See https://ipywidgets.readthedocs.io/en/stable/user_install.html\n",
      "  from .autonotebook import tqdm as notebook_tqdm\n"
     ]
    },
    {
     "name": "stdout",
     "output_type": "stream",
     "text": [
      "Connected. Call `.close()` to terminate connection gracefully.\n",
      "\n",
      "Logged in to project, explore it here https://c.app.hopsworks.ai:443/p/550037\n",
      "2024-05-03 12:31:03,271 WARNING: using legacy validation callback\n"
     ]
    },
    {
     "name": "stderr",
     "output_type": "stream",
     "text": [
      "DeprecationWarning: The 'warn' method is deprecated, use 'warning' instead\n"
     ]
    },
    {
     "name": "stdout",
     "output_type": "stream",
     "text": [
      "Connected. Call `.close()` to terminate connection gracefully.\n"
     ]
    }
   ],
   "source": [
    "import hopsworks as hs\n",
    "project = hs.login()\n",
    "fs = project.get_feature_store()"
   ]
  },
  {
   "cell_type": "code",
   "execution_count": 14,
   "metadata": {},
   "outputs": [
    {
     "name": "stdout",
     "output_type": "stream",
     "text": [
      "Feature Group created successfully, explore it at \n",
      "https://c.app.hopsworks.ai:443/p/550037/fs/545860/fg/772468\n"
     ]
    },
    {
     "name": "stderr",
     "output_type": "stream",
     "text": [
      "Uploading Dataframe: 100.00% |██████████| Rows 110364/110364 | Elapsed Time: 00:15 | Remaining Time: 00:00\n"
     ]
    },
    {
     "name": "stdout",
     "output_type": "stream",
     "text": [
      "Launching job: beer_features_1_offline_fg_materialization\n",
      "Job started successfully, you can follow the progress at \n",
      "https://c.app.hopsworks.ai/p/550037/jobs/named/beer_features_1_offline_fg_materialization/executions\n"
     ]
    }
   ],
   "source": [
    "# Ensure all ID columns are integers\n",
    "df['beer_beerid'] = pd.to_numeric(df['beer_beerid'], errors='coerce').astype('Int64')\n",
    "\n",
    "# Drop any rows where the primary key is NaN\n",
    "beer_features = df[['beer_beerid', 'beer_name', 'beer_brewerid', 'beer_abv', 'beer_style']].drop_duplicates(subset=['beer_beerid'])\n",
    "beer_features = beer_features.dropna(subset=['beer_beerid'])\n",
    "\n",
    "# Feature group for Beers\n",
    "beer_fg = fs.get_or_create_feature_group(\n",
    "    name=\"beer_features\",\n",
    "    version=1,\n",
    "    description=\"Basic information about beers\",\n",
    "    primary_key=['beer_beerid'],\n",
    "    online_enabled=True\n",
    ")\n",
    "\n",
    "# Inserting the data\n",
    "beer_fg.insert(beer_features)"
   ]
  },
  {
   "cell_type": "code",
   "execution_count": 17,
   "metadata": {},
   "outputs": [],
   "source": [
    "# update beer feature descriptions\n",
    "beer_feature_descriptions = {\n",
    "    \"beer_beerid\": \"Unique identifier for each beer.\",\n",
    "    \"beer_name\": \"Name of the beer.\",\n",
    "    \"beer_brewerid\": \"Identifier for the brewer of the beer.\",\n",
    "    \"beer_abv\": \"Alcohol by volume percentage of the beer.\",\n",
    "    \"beer_style\": \"Style or category of the beer.\"\n",
    "}\n",
    "\n",
    "# Update descriptions for Beer Features\n",
    "for feature, description in beer_feature_descriptions.items():\n",
    "    beer_fg.update_feature_description(feature, description)\n"
   ]
  },
  {
   "cell_type": "code",
   "execution_count": 15,
   "metadata": {},
   "outputs": [
    {
     "name": "stdout",
     "output_type": "stream",
     "text": [
      "Feature Group created successfully, explore it at \n",
      "https://c.app.hopsworks.ai:443/p/550037/fs/545860/fg/774499\n"
     ]
    },
    {
     "name": "stderr",
     "output_type": "stream",
     "text": [
      "Uploading Dataframe: 100.00% |██████████| Rows 2924163/2924163 | Elapsed Time: 03:32 | Remaining Time: 00:00\n"
     ]
    },
    {
     "name": "stdout",
     "output_type": "stream",
     "text": [
      "Launching job: review_features_1_offline_fg_materialization\n",
      "Job started successfully, you can follow the progress at \n",
      "https://c.app.hopsworks.ai/p/550037/jobs/named/review_features_1_offline_fg_materialization/executions\n"
     ]
    },
    {
     "data": {
      "text/plain": [
       "(<hsfs.core.job.Job at 0x1d5843b90>, None)"
      ]
     },
     "execution_count": 15,
     "metadata": {},
     "output_type": "execute_result"
    }
   ],
   "source": [
    "# Feature Group for Reviews\n",
    "review_features = df[['review_appearance', 'review_aroma', 'review_palate', 'review_taste', 'review_overall', 'beer_beerid']]\n",
    "review_fg = fs.get_or_create_feature_group(\n",
    "    name=\"review_features\",\n",
    "    version=1,\n",
    "    description=\"Metrics about beer reviews\",\n",
    "    primary_key=['beer_beerid'],\n",
    "    online_enabled=True\n",
    ")\n",
    "review_fg.insert(review_features)"
   ]
  },
  {
   "cell_type": "code",
   "execution_count": 18,
   "metadata": {},
   "outputs": [],
   "source": [
    "# update review feature descriptions\n",
    "review_feature_descriptions = {\n",
    "    \"review_appearance\": \"Rating of the beer's appearance (1-5).\",\n",
    "    \"review_aroma\": \"Rating of the beer's aroma (1-5).\",\n",
    "    \"review_palate\": \"Rating of the beer's palate (1-5).\",\n",
    "    \"review_taste\": \"Rating of the beer's taste (1-5).\",\n",
    "    \"review_overall\": \"Overall rating of the beer (1-5).\",\n",
    "    \"beer_beerid\": \"Associated unique identifier for each beer.\"\n",
    "}\n",
    "\n",
    "# Update descriptions for Review Features\n",
    "for feature, description in review_feature_descriptions.items():\n",
    "    review_fg.update_feature_description(feature, description)"
   ]
  },
  {
   "cell_type": "code",
   "execution_count": 16,
   "metadata": {},
   "outputs": [
    {
     "name": "stdout",
     "output_type": "stream",
     "text": [
      "Feature Group created successfully, explore it at \n",
      "https://c.app.hopsworks.ai:443/p/550037/fs/545860/fg/775517\n"
     ]
    },
    {
     "name": "stderr",
     "output_type": "stream",
     "text": [
      "Uploading Dataframe: 100.00% |██████████| Rows 29265/29265 | Elapsed Time: 00:07 | Remaining Time: 00:00\n"
     ]
    },
    {
     "name": "stdout",
     "output_type": "stream",
     "text": [
      "Launching job: reviewer_profile_features_1_offline_fg_materialization\n",
      "Job started successfully, you can follow the progress at \n",
      "https://c.app.hopsworks.ai/p/550037/jobs/named/reviewer_profile_features_1_offline_fg_materialization/executions\n"
     ]
    },
    {
     "data": {
      "text/plain": [
       "(<hsfs.core.job.Job at 0x1d5841520>, None)"
      ]
     },
     "execution_count": 16,
     "metadata": {},
     "output_type": "execute_result"
    }
   ],
   "source": [
    "# Feature Group for reviewer profiles\n",
    "reviewer_profile_features = df[['review_profilename']].drop_duplicates()\n",
    "reviewer_fg = fs.get_or_create_feature_group(\n",
    "    name=\"reviewer_profile_features\",\n",
    "    version=1,\n",
    "    description=\"Profile information of reviewers\",\n",
    "    primary_key=['review_profilename'],\n",
    "    online_enabled=True\n",
    ")\n",
    "reviewer_fg.insert(reviewer_profile_features)"
   ]
  },
  {
   "cell_type": "code",
   "execution_count": 19,
   "metadata": {},
   "outputs": [],
   "source": [
    "# update reviewer profile feature descriptions\n",
    "reviewer_profile_feature_descriptions = {\n",
    "    \"review_profilename\": \"Unique username of the reviewer.\"\n",
    "}\n",
    "\n",
    "# Update descriptions for Reviewer Profile Features\n",
    "for feature, description in reviewer_profile_feature_descriptions.items():\n",
    "    reviewer_fg.update_feature_description(feature, description)"
   ]
  }
 ],
 "metadata": {
  "kernelspec": {
   "display_name": "MLOPS",
   "language": "python",
   "name": "python3"
  },
  "language_info": {
   "codemirror_mode": {
    "name": "ipython",
    "version": 3
   },
   "file_extension": ".py",
   "mimetype": "text/x-python",
   "name": "python",
   "nbconvert_exporter": "python",
   "pygments_lexer": "ipython3",
   "version": "3.12.2"
  }
 },
 "nbformat": 4,
 "nbformat_minor": 2
}
