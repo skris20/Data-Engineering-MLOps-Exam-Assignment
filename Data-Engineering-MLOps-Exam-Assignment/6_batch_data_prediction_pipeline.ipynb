{
 "cells": [
  {
   "cell_type": "markdown",
   "metadata": {},
   "source": [
    "# Batch prediction pipline for the model trained in the previous notebook"
   ]
  },
  {
   "cell_type": "code",
   "execution_count": null,
   "metadata": {},
   "outputs": [],
   "source": [
    "import pickle\n",
    "\n",
    "# Load the DataFrame\n",
    "with open('ratebeer.pkl', 'rb') as file:\n",
    "    df = pickle.load(file)"
   ]
  },
  {
   "cell_type": "code",
   "execution_count": null,
   "metadata": {},
   "outputs": [],
   "source": [
    "# Select a subset of the original dataset (1000 samples)\n",
    "subset_dataset = df.sample(n=1000, random_state=42)  # Adjust the size as needed"
   ]
  },
  {
   "cell_type": "code",
   "execution_count": null,
   "metadata": {},
   "outputs": [],
   "source": [
    "# Pickle the subset of data\n",
    "with open(\"subset_data.pkl\", \"wb\") as file:\n",
    "    pickle.dump(subset_dataset, file)\n"
   ]
  },
  {
   "cell_type": "code",
   "execution_count": null,
   "metadata": {},
   "outputs": [],
   "source": [
    "import hopsworks\n",
    "\n",
    "# Log in to Hopsworks\n",
    "project = hopsworks.login()\n",
    "\n",
    "# Get the model registry instance\n",
    "mr = project.get_model_registry()\n",
    "\n",
    "model = mr.get_model(\"BeerRatingPredictionModel1\", version=1)\n",
    "\n",
    "model.download()"
   ]
  },
  {
   "cell_type": "code",
   "execution_count": null,
   "metadata": {},
   "outputs": [],
   "source": [
    "import hsml\n",
    "\n",
    "# Hopsworks documentation import\n",
    "\n",
    "# connect with Hopsworks.\n",
    "# NOTE: to connect from an external environment, see https://docs.hopsworks.ai/3.7/user_guides/projects/api_key/create_api_key \n",
    "conn = hsml.connection()\n",
    "\n",
    "# get Hopsworks Model Serving\n",
    "ms = conn.get_model_serving()\n",
    "\n",
    "# get deployment object\n",
    "deployment = ms.get_deployment(\"beerratingmodeldeployment1\")\n"
   ]
  },
  {
   "cell_type": "code",
   "execution_count": null,
   "metadata": {},
   "outputs": [],
   "source": [
    "# get Hopsworks Model Registry\n",
    "mr = conn.get_model_registry(project=\"skris20\")\n",
    "  \n",
    "# get model\n",
    "model = mr.get_model(deployment.model_name, deployment.model_version)\n",
    "\n",
    "# make predictions\n",
    "predictions = deployment.predict({\"instances\": [model.input_example]})\n",
    "print(predictions)\n"
   ]
  },
  {
   "cell_type": "code",
   "execution_count": null,
   "metadata": {},
   "outputs": [],
   "source": [
    "# Print the DataFrame structure to verify the columns\n",
    "print(subset_data.dtypes)\n",
    "\n",
    "# Check if there are exactly 12 columns\n",
    "if len(subset_data.columns) != 12:\n",
    "    print(f\"Error: The DataFrame should contain 12 columns, but it has {len(subset_data.columns)} columns.\")\n",
    "else:\n",
    "    print(\"The DataFrame has the correct number of columns.\")\n"
   ]
  },
  {
   "cell_type": "code",
   "execution_count": null,
   "metadata": {},
   "outputs": [],
   "source": [
    "import pandas as pd\n",
    "import numpy as np\n",
    "import pickle\n",
    "import hsml\n",
    "\n",
    "# Initialize connection to Hopsworks\n",
    "conn = hsml.connection()\n",
    "\n",
    "# Get Hopsworks Model Serving\n",
    "ms = conn.get_model_serving()\n",
    "\n",
    "# Get deployment object\n",
    "deployment = ms.get_deployment(\"beerratingmodeldeployment1\")\n",
    "\n",
    "# Load the data that has been preprocessed and pickled\n",
    "with open('ratebeer.pkl', 'rb') as file:\n",
    "    data = pickle.load(file)\n",
    "\n",
    "# Check if the DataFrame has the expected columns\n",
    "if 'avg_overall' not in data.columns:\n",
    "    agg_data = data.groupby('beer_beerid').agg({\n",
    "        'review_overall': ['mean', 'count'],\n",
    "        'review_aroma': 'mean',\n",
    "        'review_palate': 'mean',\n",
    "        'review_taste': 'mean',\n",
    "        'review_appearance': 'mean'\n",
    "    }).reset_index()\n",
    "    agg_data.columns = ['beer_beerid', 'avg_overall', 'review_count', 'avg_aroma', 'avg_palate', 'avg_taste', 'avg_appearance']\n",
    "    data = data.merge(agg_data, on='beer_beerid')\n",
    "\n",
    "# Ensure correct feature count and types\n",
    "expected_columns = ['beer_abv', 'beer_brewerid', 'review_appearance', 'review_aroma', \n",
    "                    'review_palate', 'review_taste', 'avg_overall', 'avg_aroma', \n",
    "                    'avg_palate', 'avg_taste', 'avg_appearance', 'review_count']\n",
    "data = data[expected_columns]\n",
    "\n",
    "# Convert any datetime columns to string format\n",
    "if 'review_time' in data.columns:\n",
    "    data['review_time'] = data['review_time'].dt.strftime('%Y-%m-%dT%H:%M:%S')\n",
    "\n",
    "# Convert DataFrame to list of dictionaries for prediction\n",
    "input_data = data.to_dict(orient='records')\n",
    "\n",
    "# Check each instance has exactly 12 features (Just to make sure because of earlier error)\n",
    "if all(len(item) == 12 for item in input_data):\n",
    "    try:\n",
    "        predictions = deployment.predict({\"instances\": input_data})\n",
    "        print(\"Predictions received:\", predictions)\n",
    "    except Exception as e:\n",
    "        print(\"Error during prediction:\", e)\n",
    "else:\n",
    "    print(\"Data formatting error: Each instance does not have exactly 12 features.\")\n"
   ]
  }
 ],
 "metadata": {
  "kernelspec": {
   "display_name": "MLOps",
   "language": "python",
   "name": "python3"
  },
  "language_info": {
   "codemirror_mode": {
    "name": "ipython",
    "version": 3
   },
   "file_extension": ".py",
   "mimetype": "text/x-python",
   "name": "python",
   "nbconvert_exporter": "python",
   "pygments_lexer": "ipython3",
   "version": "3.11.8"
  }
 },
 "nbformat": 4,
 "nbformat_minor": 2
}
