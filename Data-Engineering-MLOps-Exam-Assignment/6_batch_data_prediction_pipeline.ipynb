{
 "cells": [
  {
   "cell_type": "markdown",
   "metadata": {},
   "source": [
    "# Batch prediction pipline for the model trained in the previous notebook"
   ]
  },
  {
   "cell_type": "code",
   "execution_count": null,
   "metadata": {},
   "outputs": [],
   "source": [
    "import pickle\n",
    "\n",
    "# Load the DataFrame\n",
    "with open('ratebeer.pkl', 'rb') as file:\n",
    "    df = pickle.load(file)"
   ]
  },
  {
   "cell_type": "code",
   "execution_count": null,
   "metadata": {},
   "outputs": [],
   "source": [
    "# Select a subset of the original dataset\n",
    "subset_dataset = df.sample(n=1000, random_state=42)  # Adjust the size as needed"
   ]
  },
  {
   "cell_type": "code",
   "execution_count": null,
   "metadata": {},
   "outputs": [],
   "source": [
    "# Pickle the subset of data\n",
    "with open(\"subset_data.pkl\", \"wb\") as file:\n",
    "    pickle.dump(subset_dataset, file)\n"
   ]
  },
  {
   "cell_type": "code",
   "execution_count": null,
   "metadata": {},
   "outputs": [],
   "source": [
    "import hopsworks\n",
    "\n",
    "# Log in to Hopsworks\n",
    "project = hopsworks.login()\n",
    "\n",
    "# Get the model registry instance\n",
    "mr = project.get_model_registry()\n",
    "\n",
    "# Get the model you want to download\n",
    "model = mr.get_model(\"BeerRatingPredictionModel1\", version=1)\n",
    "\n",
    "# Download the model artifact\n",
    "model.download()"
   ]
  },
  {
   "cell_type": "code",
   "execution_count": null,
   "metadata": {},
   "outputs": [],
   "source": [
    "import hsml\n",
    "\n",
    "# connect with Hopsworks.\n",
    "# NOTE: to connect from an external environment, see https://docs.hopsworks.ai/3.7/user_guides/projects/api_key/create_api_key \n",
    "conn = hsml.connection()\n",
    "\n",
    "# get Hopsworks Model Serving\n",
    "ms = conn.get_model_serving()\n",
    "\n",
    "# get deployment object\n",
    "deployment = ms.get_deployment(\"beerratingmodeldeployment1\")\n"
   ]
  },
  {
   "cell_type": "code",
   "execution_count": null,
   "metadata": {},
   "outputs": [],
   "source": [
    "# get Hopsworks Model Registry\n",
    "mr = conn.get_model_registry(project=\"skris20\")\n",
    "  \n",
    "# get model\n",
    "model = mr.get_model(deployment.model_name, deployment.model_version)\n",
    "\n",
    "# make predictions\n",
    "predictions = deployment.predict({\"instances\": [model.input_example]})\n",
    "print(predictions)\n"
   ]
  },
  {
   "cell_type": "code",
   "execution_count": null,
   "metadata": {},
   "outputs": [],
   "source": [
    "# Print the DataFrame structure to verify the columns\n",
    "print(subset_data.dtypes)\n",
    "\n",
    "# Check if there are exactly 12 columns\n",
    "if len(subset_data.columns) != 12:\n",
    "    print(f\"Error: The DataFrame should contain 12 columns, but it has {len(subset_data.columns)} columns.\")\n",
    "else:\n",
    "    print(\"The DataFrame has the correct number of columns.\")\n"
   ]
  },
  {
   "cell_type": "code",
   "execution_count": null,
   "metadata": {},
   "outputs": [],
   "source": [
    "# Assuming these are the expected columns and types, adjust according to your model's training\n",
    "expected_columns = {\n",
    "    'feature1': 'float64', \n",
    "    'feature2': 'float64', \n",
    "    'feature3': 'int64',\n",
    "    # Add all 12 expected features and their types here\n",
    "}\n",
    "\n",
    "# Check for missing or extra columns\n",
    "missing_columns = set(expected_columns.keys()) - set(subset_data.columns)\n",
    "extra_columns = set(subset_data.columns) - set(expected_columns.keys())\n",
    "\n",
    "if missing_columns:\n",
    "    print(f\"Missing columns: {missing_columns}\")\n",
    "if extra_columns:\n",
    "    print(f\"Extra columns: {extra_columns}\")\n",
    "\n",
    "# Verify data types\n",
    "for col, dtype in expected_columns.items():\n",
    "    if col in subset_data.columns and subset_data[col].dtype != dtype:\n",
    "        print(f\"Data type mismatch in column {col}: Expected {dtype}, found {subset_data[col].dtype}\")\n"
   ]
  },
  {
   "cell_type": "code",
   "execution_count": null,
   "metadata": {},
   "outputs": [],
   "source": [
    "import pandas as pd\n",
    "import numpy as np\n",
    "import pickle\n",
    "import hsml\n",
    "\n",
    "# Initialize connection to Hopsworks\n",
    "conn = hsml.connection()\n",
    "\n",
    "# Get Hopsworks Model Serving\n",
    "ms = conn.get_model_serving()\n",
    "\n",
    "# Get deployment object\n",
    "deployment = ms.get_deployment(\"beerratingmodeldeployment1\")\n",
    "\n",
    "# Load the data that has been preprocessed and pickled\n",
    "with open('ratebeer.pkl', 'rb') as file:\n",
    "    data = pickle.load(file)\n",
    "\n",
    "# Verify columns and perform necessary aggregations if missing\n",
    "if 'avg_overall' not in data.columns:\n",
    "    # Example of performing aggregation if not already done\n",
    "    agg_data = data.groupby('beer_beerid').agg({\n",
    "        'review_overall': ['mean', 'count'],\n",
    "        'review_aroma': 'mean',\n",
    "        'review_palate': 'mean',\n",
    "        'review_taste': 'mean',\n",
    "        'review_appearance': 'mean'\n",
    "    }).reset_index()\n",
    "    agg_data.columns = ['beer_beerid', 'avg_overall', 'review_count', 'avg_aroma', 'avg_palate', 'avg_taste', 'avg_appearance']\n",
    "    data = data.merge(agg_data, on='beer_beerid')\n",
    "\n",
    "# Ensure correct feature count and types\n",
    "expected_columns = ['beer_abv', 'beer_brewerid', 'review_appearance', 'review_aroma', \n",
    "                    'review_palate', 'review_taste', 'avg_overall', 'avg_aroma', \n",
    "                    'avg_palate', 'avg_taste', 'avg_appearance', 'review_count']\n",
    "data = data[expected_columns]\n",
    "\n",
    "# Convert any datetime columns to string format if not already done\n",
    "if 'review_time' in data.columns:\n",
    "    data['review_time'] = data['review_time'].dt.strftime('%Y-%m-%dT%H:%M:%S')\n",
    "\n",
    "# Convert DataFrame to list of dictionaries for prediction\n",
    "input_data = data.to_dict(orient='records')\n",
    "\n",
    "# Check each instance has exactly 12 features\n",
    "if all(len(item) == 12 for item in input_data):\n",
    "    try:\n",
    "        predictions = deployment.predict({\"instances\": input_data})\n",
    "        print(\"Predictions received:\", predictions)\n",
    "    except Exception as e:\n",
    "        print(\"Error during prediction:\", e)\n",
    "else:\n",
    "    print(\"Data formatting error: Each instance does not have exactly 12 features.\")\n"
   ]
  }
 ],
 "metadata": {
  "kernelspec": {
   "display_name": "MLOps",
   "language": "python",
   "name": "python3"
  },
  "language_info": {
   "codemirror_mode": {
    "name": "ipython",
    "version": 3
   },
   "file_extension": ".py",
   "mimetype": "text/x-python",
   "name": "python",
   "nbconvert_exporter": "python",
   "pygments_lexer": "ipython3",
   "version": "3.11.8"
  }
 },
 "nbformat": 4,
 "nbformat_minor": 2
}
